{
 "cells": [
  {
   "cell_type": "code",
   "execution_count": 1,
   "metadata": {},
   "outputs": [],
   "source": [
    "import os\n",
    "import re\n",
    "import numpy as np\n",
    "import pandas as pd\n",
    "import seaborn as sns\n",
    "import matplotlib.pyplot as plt\n",
    "\n",
    "import warnings\n",
    "warnings.filterwarnings(\"ignore\")\n",
    "\n",
    "plt.style.use('ggplot')"
   ]
  },
  {
   "cell_type": "markdown",
   "metadata": {},
   "source": [
    "# 1. Multi-class and Multi-Label Classification Using Support Vector Machines\n",
    "\n",
    "\n",
    "## 1.(a) Download the Anuran Calls (MFCCs) Data Set"
   ]
  },
  {
   "cell_type": "code",
   "execution_count": 89,
   "metadata": {},
   "outputs": [],
   "source": [
    "mfcc_path = \"../data/Anuran Calls (MFCCs)/Frogs_MFCCs.csv\"\n",
    "\n",
    "mfcc_data = pd.read_csv(mfcc_path)"
   ]
  },
  {
   "cell_type": "code",
   "execution_count": 90,
   "metadata": {
    "scrolled": false
   },
   "outputs": [
    {
     "data": {
      "text/html": [
       "<div>\n",
       "<style scoped>\n",
       "    .dataframe tbody tr th:only-of-type {\n",
       "        vertical-align: middle;\n",
       "    }\n",
       "\n",
       "    .dataframe tbody tr th {\n",
       "        vertical-align: top;\n",
       "    }\n",
       "\n",
       "    .dataframe thead th {\n",
       "        text-align: right;\n",
       "    }\n",
       "</style>\n",
       "<table border=\"1\" class=\"dataframe\">\n",
       "  <thead>\n",
       "    <tr style=\"text-align: right;\">\n",
       "      <th></th>\n",
       "      <th>MFCCs_ 1</th>\n",
       "      <th>MFCCs_ 2</th>\n",
       "      <th>MFCCs_ 3</th>\n",
       "      <th>MFCCs_ 4</th>\n",
       "      <th>MFCCs_ 5</th>\n",
       "      <th>MFCCs_ 6</th>\n",
       "      <th>MFCCs_ 7</th>\n",
       "      <th>MFCCs_ 8</th>\n",
       "      <th>MFCCs_ 9</th>\n",
       "      <th>MFCCs_10</th>\n",
       "      <th>...</th>\n",
       "      <th>MFCCs_17</th>\n",
       "      <th>MFCCs_18</th>\n",
       "      <th>MFCCs_19</th>\n",
       "      <th>MFCCs_20</th>\n",
       "      <th>MFCCs_21</th>\n",
       "      <th>MFCCs_22</th>\n",
       "      <th>Family</th>\n",
       "      <th>Genus</th>\n",
       "      <th>Species</th>\n",
       "      <th>RecordID</th>\n",
       "    </tr>\n",
       "  </thead>\n",
       "  <tbody>\n",
       "    <tr>\n",
       "      <th>0</th>\n",
       "      <td>1.0</td>\n",
       "      <td>0.152936</td>\n",
       "      <td>-0.105586</td>\n",
       "      <td>0.200722</td>\n",
       "      <td>0.317201</td>\n",
       "      <td>0.260764</td>\n",
       "      <td>0.100945</td>\n",
       "      <td>-0.150063</td>\n",
       "      <td>-0.171128</td>\n",
       "      <td>0.124676</td>\n",
       "      <td>...</td>\n",
       "      <td>-0.108351</td>\n",
       "      <td>-0.077623</td>\n",
       "      <td>-0.009568</td>\n",
       "      <td>0.057684</td>\n",
       "      <td>0.118680</td>\n",
       "      <td>0.014038</td>\n",
       "      <td>Leptodactylidae</td>\n",
       "      <td>Adenomera</td>\n",
       "      <td>AdenomeraAndre</td>\n",
       "      <td>1</td>\n",
       "    </tr>\n",
       "    <tr>\n",
       "      <th>1</th>\n",
       "      <td>1.0</td>\n",
       "      <td>0.171534</td>\n",
       "      <td>-0.098975</td>\n",
       "      <td>0.268425</td>\n",
       "      <td>0.338672</td>\n",
       "      <td>0.268353</td>\n",
       "      <td>0.060835</td>\n",
       "      <td>-0.222475</td>\n",
       "      <td>-0.207693</td>\n",
       "      <td>0.170883</td>\n",
       "      <td>...</td>\n",
       "      <td>-0.090974</td>\n",
       "      <td>-0.056510</td>\n",
       "      <td>-0.035303</td>\n",
       "      <td>0.020140</td>\n",
       "      <td>0.082263</td>\n",
       "      <td>0.029056</td>\n",
       "      <td>Leptodactylidae</td>\n",
       "      <td>Adenomera</td>\n",
       "      <td>AdenomeraAndre</td>\n",
       "      <td>1</td>\n",
       "    </tr>\n",
       "    <tr>\n",
       "      <th>2</th>\n",
       "      <td>1.0</td>\n",
       "      <td>0.152317</td>\n",
       "      <td>-0.082973</td>\n",
       "      <td>0.287128</td>\n",
       "      <td>0.276014</td>\n",
       "      <td>0.189867</td>\n",
       "      <td>0.008714</td>\n",
       "      <td>-0.242234</td>\n",
       "      <td>-0.219153</td>\n",
       "      <td>0.232538</td>\n",
       "      <td>...</td>\n",
       "      <td>-0.050691</td>\n",
       "      <td>-0.023590</td>\n",
       "      <td>-0.066722</td>\n",
       "      <td>-0.025083</td>\n",
       "      <td>0.099108</td>\n",
       "      <td>0.077162</td>\n",
       "      <td>Leptodactylidae</td>\n",
       "      <td>Adenomera</td>\n",
       "      <td>AdenomeraAndre</td>\n",
       "      <td>1</td>\n",
       "    </tr>\n",
       "    <tr>\n",
       "      <th>3</th>\n",
       "      <td>1.0</td>\n",
       "      <td>0.224392</td>\n",
       "      <td>0.118985</td>\n",
       "      <td>0.329432</td>\n",
       "      <td>0.372088</td>\n",
       "      <td>0.361005</td>\n",
       "      <td>0.015501</td>\n",
       "      <td>-0.194347</td>\n",
       "      <td>-0.098181</td>\n",
       "      <td>0.270375</td>\n",
       "      <td>...</td>\n",
       "      <td>-0.136009</td>\n",
       "      <td>-0.177037</td>\n",
       "      <td>-0.130498</td>\n",
       "      <td>-0.054766</td>\n",
       "      <td>-0.018691</td>\n",
       "      <td>0.023954</td>\n",
       "      <td>Leptodactylidae</td>\n",
       "      <td>Adenomera</td>\n",
       "      <td>AdenomeraAndre</td>\n",
       "      <td>1</td>\n",
       "    </tr>\n",
       "    <tr>\n",
       "      <th>4</th>\n",
       "      <td>1.0</td>\n",
       "      <td>0.087817</td>\n",
       "      <td>-0.068345</td>\n",
       "      <td>0.306967</td>\n",
       "      <td>0.330923</td>\n",
       "      <td>0.249144</td>\n",
       "      <td>0.006884</td>\n",
       "      <td>-0.265423</td>\n",
       "      <td>-0.172700</td>\n",
       "      <td>0.266434</td>\n",
       "      <td>...</td>\n",
       "      <td>-0.048885</td>\n",
       "      <td>-0.053074</td>\n",
       "      <td>-0.088550</td>\n",
       "      <td>-0.031346</td>\n",
       "      <td>0.108610</td>\n",
       "      <td>0.079244</td>\n",
       "      <td>Leptodactylidae</td>\n",
       "      <td>Adenomera</td>\n",
       "      <td>AdenomeraAndre</td>\n",
       "      <td>1</td>\n",
       "    </tr>\n",
       "    <tr>\n",
       "      <th>...</th>\n",
       "      <td>...</td>\n",
       "      <td>...</td>\n",
       "      <td>...</td>\n",
       "      <td>...</td>\n",
       "      <td>...</td>\n",
       "      <td>...</td>\n",
       "      <td>...</td>\n",
       "      <td>...</td>\n",
       "      <td>...</td>\n",
       "      <td>...</td>\n",
       "      <td>...</td>\n",
       "      <td>...</td>\n",
       "      <td>...</td>\n",
       "      <td>...</td>\n",
       "      <td>...</td>\n",
       "      <td>...</td>\n",
       "      <td>...</td>\n",
       "      <td>...</td>\n",
       "      <td>...</td>\n",
       "      <td>...</td>\n",
       "      <td>...</td>\n",
       "    </tr>\n",
       "    <tr>\n",
       "      <th>7190</th>\n",
       "      <td>1.0</td>\n",
       "      <td>-0.554504</td>\n",
       "      <td>-0.337717</td>\n",
       "      <td>0.035533</td>\n",
       "      <td>0.034511</td>\n",
       "      <td>0.443451</td>\n",
       "      <td>0.093889</td>\n",
       "      <td>-0.100753</td>\n",
       "      <td>0.037087</td>\n",
       "      <td>0.081075</td>\n",
       "      <td>...</td>\n",
       "      <td>0.069430</td>\n",
       "      <td>0.071001</td>\n",
       "      <td>0.021591</td>\n",
       "      <td>0.052449</td>\n",
       "      <td>-0.021860</td>\n",
       "      <td>-0.079860</td>\n",
       "      <td>Hylidae</td>\n",
       "      <td>Scinax</td>\n",
       "      <td>ScinaxRuber</td>\n",
       "      <td>60</td>\n",
       "    </tr>\n",
       "    <tr>\n",
       "      <th>7191</th>\n",
       "      <td>1.0</td>\n",
       "      <td>-0.517273</td>\n",
       "      <td>-0.370574</td>\n",
       "      <td>0.030673</td>\n",
       "      <td>0.068097</td>\n",
       "      <td>0.402890</td>\n",
       "      <td>0.096628</td>\n",
       "      <td>-0.116460</td>\n",
       "      <td>0.063727</td>\n",
       "      <td>0.089034</td>\n",
       "      <td>...</td>\n",
       "      <td>0.061127</td>\n",
       "      <td>0.068978</td>\n",
       "      <td>0.017745</td>\n",
       "      <td>0.046461</td>\n",
       "      <td>-0.015418</td>\n",
       "      <td>-0.101892</td>\n",
       "      <td>Hylidae</td>\n",
       "      <td>Scinax</td>\n",
       "      <td>ScinaxRuber</td>\n",
       "      <td>60</td>\n",
       "    </tr>\n",
       "    <tr>\n",
       "      <th>7192</th>\n",
       "      <td>1.0</td>\n",
       "      <td>-0.582557</td>\n",
       "      <td>-0.343237</td>\n",
       "      <td>0.029468</td>\n",
       "      <td>0.064179</td>\n",
       "      <td>0.385596</td>\n",
       "      <td>0.114905</td>\n",
       "      <td>-0.103317</td>\n",
       "      <td>0.070370</td>\n",
       "      <td>0.081317</td>\n",
       "      <td>...</td>\n",
       "      <td>0.082474</td>\n",
       "      <td>0.077771</td>\n",
       "      <td>-0.009688</td>\n",
       "      <td>0.027834</td>\n",
       "      <td>-0.000531</td>\n",
       "      <td>-0.080425</td>\n",
       "      <td>Hylidae</td>\n",
       "      <td>Scinax</td>\n",
       "      <td>ScinaxRuber</td>\n",
       "      <td>60</td>\n",
       "    </tr>\n",
       "    <tr>\n",
       "      <th>7193</th>\n",
       "      <td>1.0</td>\n",
       "      <td>-0.519497</td>\n",
       "      <td>-0.307553</td>\n",
       "      <td>-0.004922</td>\n",
       "      <td>0.072865</td>\n",
       "      <td>0.377131</td>\n",
       "      <td>0.086866</td>\n",
       "      <td>-0.115799</td>\n",
       "      <td>0.056979</td>\n",
       "      <td>0.089316</td>\n",
       "      <td>...</td>\n",
       "      <td>0.051796</td>\n",
       "      <td>0.069073</td>\n",
       "      <td>0.017963</td>\n",
       "      <td>0.041803</td>\n",
       "      <td>-0.027911</td>\n",
       "      <td>-0.096895</td>\n",
       "      <td>Hylidae</td>\n",
       "      <td>Scinax</td>\n",
       "      <td>ScinaxRuber</td>\n",
       "      <td>60</td>\n",
       "    </tr>\n",
       "    <tr>\n",
       "      <th>7194</th>\n",
       "      <td>1.0</td>\n",
       "      <td>-0.508833</td>\n",
       "      <td>-0.324106</td>\n",
       "      <td>0.062068</td>\n",
       "      <td>0.078211</td>\n",
       "      <td>0.397188</td>\n",
       "      <td>0.094596</td>\n",
       "      <td>-0.117672</td>\n",
       "      <td>0.058874</td>\n",
       "      <td>0.076180</td>\n",
       "      <td>...</td>\n",
       "      <td>0.061455</td>\n",
       "      <td>0.072983</td>\n",
       "      <td>-0.003980</td>\n",
       "      <td>0.031560</td>\n",
       "      <td>-0.029355</td>\n",
       "      <td>-0.087910</td>\n",
       "      <td>Hylidae</td>\n",
       "      <td>Scinax</td>\n",
       "      <td>ScinaxRuber</td>\n",
       "      <td>60</td>\n",
       "    </tr>\n",
       "  </tbody>\n",
       "</table>\n",
       "<p>7195 rows × 26 columns</p>\n",
       "</div>"
      ],
      "text/plain": [
       "      MFCCs_ 1  MFCCs_ 2  MFCCs_ 3  MFCCs_ 4  MFCCs_ 5  MFCCs_ 6  MFCCs_ 7  \\\n",
       "0          1.0  0.152936 -0.105586  0.200722  0.317201  0.260764  0.100945   \n",
       "1          1.0  0.171534 -0.098975  0.268425  0.338672  0.268353  0.060835   \n",
       "2          1.0  0.152317 -0.082973  0.287128  0.276014  0.189867  0.008714   \n",
       "3          1.0  0.224392  0.118985  0.329432  0.372088  0.361005  0.015501   \n",
       "4          1.0  0.087817 -0.068345  0.306967  0.330923  0.249144  0.006884   \n",
       "...        ...       ...       ...       ...       ...       ...       ...   \n",
       "7190       1.0 -0.554504 -0.337717  0.035533  0.034511  0.443451  0.093889   \n",
       "7191       1.0 -0.517273 -0.370574  0.030673  0.068097  0.402890  0.096628   \n",
       "7192       1.0 -0.582557 -0.343237  0.029468  0.064179  0.385596  0.114905   \n",
       "7193       1.0 -0.519497 -0.307553 -0.004922  0.072865  0.377131  0.086866   \n",
       "7194       1.0 -0.508833 -0.324106  0.062068  0.078211  0.397188  0.094596   \n",
       "\n",
       "      MFCCs_ 8  MFCCs_ 9  MFCCs_10  ...  MFCCs_17  MFCCs_18  MFCCs_19  \\\n",
       "0    -0.150063 -0.171128  0.124676  ... -0.108351 -0.077623 -0.009568   \n",
       "1    -0.222475 -0.207693  0.170883  ... -0.090974 -0.056510 -0.035303   \n",
       "2    -0.242234 -0.219153  0.232538  ... -0.050691 -0.023590 -0.066722   \n",
       "3    -0.194347 -0.098181  0.270375  ... -0.136009 -0.177037 -0.130498   \n",
       "4    -0.265423 -0.172700  0.266434  ... -0.048885 -0.053074 -0.088550   \n",
       "...        ...       ...       ...  ...       ...       ...       ...   \n",
       "7190 -0.100753  0.037087  0.081075  ...  0.069430  0.071001  0.021591   \n",
       "7191 -0.116460  0.063727  0.089034  ...  0.061127  0.068978  0.017745   \n",
       "7192 -0.103317  0.070370  0.081317  ...  0.082474  0.077771 -0.009688   \n",
       "7193 -0.115799  0.056979  0.089316  ...  0.051796  0.069073  0.017963   \n",
       "7194 -0.117672  0.058874  0.076180  ...  0.061455  0.072983 -0.003980   \n",
       "\n",
       "      MFCCs_20  MFCCs_21  MFCCs_22           Family      Genus  \\\n",
       "0     0.057684  0.118680  0.014038  Leptodactylidae  Adenomera   \n",
       "1     0.020140  0.082263  0.029056  Leptodactylidae  Adenomera   \n",
       "2    -0.025083  0.099108  0.077162  Leptodactylidae  Adenomera   \n",
       "3    -0.054766 -0.018691  0.023954  Leptodactylidae  Adenomera   \n",
       "4    -0.031346  0.108610  0.079244  Leptodactylidae  Adenomera   \n",
       "...        ...       ...       ...              ...        ...   \n",
       "7190  0.052449 -0.021860 -0.079860          Hylidae     Scinax   \n",
       "7191  0.046461 -0.015418 -0.101892          Hylidae     Scinax   \n",
       "7192  0.027834 -0.000531 -0.080425          Hylidae     Scinax   \n",
       "7193  0.041803 -0.027911 -0.096895          Hylidae     Scinax   \n",
       "7194  0.031560 -0.029355 -0.087910          Hylidae     Scinax   \n",
       "\n",
       "             Species  RecordID  \n",
       "0     AdenomeraAndre         1  \n",
       "1     AdenomeraAndre         1  \n",
       "2     AdenomeraAndre         1  \n",
       "3     AdenomeraAndre         1  \n",
       "4     AdenomeraAndre         1  \n",
       "...              ...       ...  \n",
       "7190     ScinaxRuber        60  \n",
       "7191     ScinaxRuber        60  \n",
       "7192     ScinaxRuber        60  \n",
       "7193     ScinaxRuber        60  \n",
       "7194     ScinaxRuber        60  \n",
       "\n",
       "[7195 rows x 26 columns]"
      ]
     },
     "execution_count": 90,
     "metadata": {},
     "output_type": "execute_result"
    }
   ],
   "source": [
    "mfcc_data"
   ]
  },
  {
   "cell_type": "markdown",
   "metadata": {},
   "source": [
    "**See the detail of labels**"
   ]
  },
  {
   "cell_type": "code",
   "execution_count": 91,
   "metadata": {},
   "outputs": [
    {
     "data": {
      "text/plain": [
       "Leptodactylidae    4420\n",
       "Hylidae            2165\n",
       "Dendrobatidae       542\n",
       "Bufonidae            68\n",
       "Name: Family, dtype: int64"
      ]
     },
     "execution_count": 91,
     "metadata": {},
     "output_type": "execute_result"
    }
   ],
   "source": [
    "mfcc_data['Family'].value_counts()"
   ]
  },
  {
   "cell_type": "code",
   "execution_count": 92,
   "metadata": {},
   "outputs": [
    {
     "data": {
      "text/plain": [
       "Adenomera        4150\n",
       "Hypsiboas        1593\n",
       "Ameerega          542\n",
       "Dendropsophus     310\n",
       "Leptodactylus     270\n",
       "Scinax            148\n",
       "Osteocephalus     114\n",
       "Rhinella           68\n",
       "Name: Genus, dtype: int64"
      ]
     },
     "execution_count": 92,
     "metadata": {},
     "output_type": "execute_result"
    }
   ],
   "source": [
    "mfcc_data['Genus'].value_counts()"
   ]
  },
  {
   "cell_type": "code",
   "execution_count": 93,
   "metadata": {},
   "outputs": [
    {
     "data": {
      "text/plain": [
       "AdenomeraHylaedactylus    3478\n",
       "HypsiboasCordobae         1121\n",
       "AdenomeraAndre             672\n",
       "Ameeregatrivittata         542\n",
       "HypsiboasCinerascens       472\n",
       "HylaMinuta                 310\n",
       "LeptodactylusFuscus        270\n",
       "ScinaxRuber                148\n",
       "OsteocephalusOophagus      114\n",
       "Rhinellagranulosa           68\n",
       "Name: Species, dtype: int64"
      ]
     },
     "execution_count": 93,
     "metadata": {},
     "output_type": "execute_result"
    }
   ],
   "source": [
    "mfcc_data['Species'].value_counts()"
   ]
  },
  {
   "cell_type": "markdown",
   "metadata": {},
   "source": [
    "**Factorize the labels**"
   ]
  },
  {
   "cell_type": "code",
   "execution_count": 94,
   "metadata": {},
   "outputs": [
    {
     "data": {
      "text/plain": [
       "0    4420\n",
       "2    2165\n",
       "1     542\n",
       "3      68\n",
       "Name: Family, dtype: int64"
      ]
     },
     "execution_count": 94,
     "metadata": {},
     "output_type": "execute_result"
    }
   ],
   "source": [
    "mfcc_data['Family'], family_labels = pd.factorize(mfcc_data['Family'])\n",
    "mfcc_data['Family'].value_counts()"
   ]
  },
  {
   "cell_type": "code",
   "execution_count": 95,
   "metadata": {},
   "outputs": [
    {
     "data": {
      "text/plain": [
       "0    4150\n",
       "3    1593\n",
       "1     542\n",
       "2     310\n",
       "4     270\n",
       "7     148\n",
       "5     114\n",
       "6      68\n",
       "Name: Genus, dtype: int64"
      ]
     },
     "execution_count": 95,
     "metadata": {},
     "output_type": "execute_result"
    }
   ],
   "source": [
    "mfcc_data['Genus'], genus_labels = pd.factorize(mfcc_data['Genus'])\n",
    "mfcc_data['Genus'].value_counts()"
   ]
  },
  {
   "cell_type": "code",
   "execution_count": 96,
   "metadata": {},
   "outputs": [
    {
     "data": {
      "text/plain": [
       "2    3478\n",
       "5    1121\n",
       "0     672\n",
       "1     542\n",
       "4     472\n",
       "3     310\n",
       "6     270\n",
       "9     148\n",
       "7     114\n",
       "8      68\n",
       "Name: Species, dtype: int64"
      ]
     },
     "execution_count": 96,
     "metadata": {},
     "output_type": "execute_result"
    }
   ],
   "source": [
    "mfcc_data['Species'], species_labels = pd.factorize(mfcc_data['Species'])\n",
    "mfcc_data['Species'].value_counts()"
   ]
  },
  {
   "cell_type": "markdown",
   "metadata": {},
   "source": [
    "**Split dataset: 70% for training**"
   ]
  },
  {
   "cell_type": "code",
   "execution_count": 97,
   "metadata": {},
   "outputs": [],
   "source": [
    "import random\n",
    "num_row = len(mfcc_data)\n",
    "random.seed(num_row)\n",
    "train_idx = random.sample(range(num_row), int(num_row * 0.7))\n",
    "test_idx = [i for i in range(num_row) if i not in train_idx]\n",
    "\n",
    "# split train and test\n",
    "mfcc_train = mfcc_data.iloc[train_idx, :].reset_index(drop=True)\n",
    "mfcc_test = mfcc_data.iloc[test_idx, :].reset_index(drop=True)\n",
    "\n",
    "# split train features and labels\n",
    "train_X = mfcc_train.iloc[:, :-4]\n",
    "train_Family = mfcc_train.iloc[:, -4]\n",
    "train_Genus = mfcc_train.iloc[:, -3]\n",
    "train_Species = mfcc_train.iloc[:, -2]\n",
    "\n",
    "# split test features and labels\n",
    "test_X = mfcc_test.iloc[:, :-4]\n",
    "test_Family = mfcc_test.iloc[:, -4]\n",
    "test_Genus = mfcc_test.iloc[:, -3]\n",
    "test_Species = mfcc_test.iloc[:, -2]"
   ]
  },
  {
   "cell_type": "code",
   "execution_count": 98,
   "metadata": {},
   "outputs": [
    {
     "data": {
      "text/plain": [
       "(5036, 26)"
      ]
     },
     "execution_count": 98,
     "metadata": {},
     "output_type": "execute_result"
    }
   ],
   "source": [
    "mfcc_train.shape"
   ]
  },
  {
   "cell_type": "code",
   "execution_count": 99,
   "metadata": {},
   "outputs": [
    {
     "data": {
      "text/plain": [
       "(2159, 26)"
      ]
     },
     "execution_count": 99,
     "metadata": {},
     "output_type": "execute_result"
    }
   ],
   "source": [
    "mfcc_test.shape"
   ]
  },
  {
   "cell_type": "markdown",
   "metadata": {},
   "source": [
    "## 1.(b) Solve a multi-class and multi-label problem\n",
    "\n",
    "### 1.(b)-i Exact match and hamming score/ loss methods for evaluating multi- label classification"
   ]
  },
  {
   "cell_type": "code",
   "execution_count": 51,
   "metadata": {},
   "outputs": [],
   "source": [
    "from sklearn.metrics import hamming_loss\n",
    "\n",
    "def multilabelEval(title, testX, groundTruthY, classifiers):\n",
    "    predictY = pd.DataFrame(columns=groundTruthY.columns)\n",
    "    for label in groundTruthY.columns:\n",
    "        clf = classifiers[label]\n",
    "        test_pred = clf.predict(testX)\n",
    "        predictY.loc[:, label] = test_pred\n",
    "    print(\"Multilabel evaluation of {}\".format(title))\n",
    "    print(\"-\" * 80)\n",
    "    hamming, exact_ratio = multilableMetric(groundTruthY, predictY)\n",
    "    return [hamming, exact_ratio]\n",
    "    \n",
    "\n",
    "def multilableMetric(groundTruthY, predictY):\n",
    "    # hamming loss\n",
    "    missclf_labels = 0\n",
    "    for truth, pred in zip(groundTruthY.values, predictY.values):\n",
    "        miss = (truth != pred)\n",
    "        missclf_labels += np.sum(miss)\n",
    "    hamming = missclf_labels / (groundTruthY.shape[0] * groundTruthY.shape[1])\n",
    "    \n",
    "    # exact math ratio\n",
    "    exact_ratio = 0\n",
    "    for truth, pred in zip(groundTruthY.values, predictY.values):\n",
    "        match = (truth == pred)\n",
    "        if sum(match) == groundTruthY.shape[1]:\n",
    "            exact_ratio += 1;\n",
    "    exact_ratio /= groundTruthY.shape[0]\n",
    "    \n",
    "    hamming = np.round(hamming, 4)\n",
    "    exact_ratio = np.round(exact_ratio, 4)\n",
    "    print(\"Hamming Loss : {}\".format(hamming))\n",
    "    print(\"Exact Match Ratio : {}\".format(exact_ratio))\n",
    "    return hamming, exact_ratio"
   ]
  },
  {
   "cell_type": "code",
   "execution_count": 12,
   "metadata": {},
   "outputs": [],
   "source": [
    "# summary for the classifiers in this section\n",
    "classifier_summary = {}"
   ]
  },
  {
   "cell_type": "markdown",
   "metadata": {},
   "source": [
    "## 1.(b)-ii Train a SVM for each of the labels, using Gaussian kernels and one versus all classifiers"
   ]
  },
  {
   "cell_type": "code",
   "execution_count": 13,
   "metadata": {},
   "outputs": [],
   "source": [
    "from sklearn.model_selection import GridSearchCV\n",
    "from sklearn.model_selection import StratifiedKFold\n",
    "from sklearn.metrics import classification_report, confusion_matrix, f1_score\n",
    "from sklearn.svm import SVC\n",
    "\n",
    "\"\"\"\n",
    "Doc refrence:\n",
    "https://scikit-learn.org/stable/auto_examples/model_selection/plot_grid_search_digits.html\n",
    "https://scikit-learn.org/stable/modules/generated/sklearn.model_selection.GridSearchCV.html#sklearn.model_selection.GridSearchCV.fit\n",
    "https://scikit-learn.org/stable/modules/model_evaluation.html#scoring-parameter\n",
    "http://scikit-learn.org/stable/modules/generated/sklearn.svm.SVC.html\n",
    "\"\"\"\n",
    "\n",
    "def paramSearch(classifier, settings, trainX, trainY, testX, testY):\n",
    "    # build and fit the grid search for given classifier\n",
    "    clf = GridSearchCV(estimator=classifier, **settings)\n",
    "    clf.fit(trainX, trainY)\n",
    "    \n",
    "    print(\"Grid scores on development set:\\n\")\n",
    "    means = clf.cv_results_['mean_test_score']\n",
    "    stds = clf.cv_results_['std_test_score']\n",
    "    for mean, std, params in zip(means, stds, clf.cv_results_['params']):\n",
    "        print(\"%0.3f (+/-%0.03f) for %r\"\n",
    "              % (mean, std * 2, params))\n",
    "    \n",
    "    # output the best option\n",
    "    print(\"\\nThe best parameter setting is:\")\n",
    "    print(clf.best_params_, \"\\n\")\n",
    "    \n",
    "    # evaluation on single-label task\n",
    "    test_pred = clf.predict(testX)\n",
    "    #conf_mat = confusion_matrix(testY, test_pred)\n",
    "    #fscore = f1_score(testY, test_pred)\n",
    "    #print(\"The confusion matrix of test set: \\n{}\".format(conf_mat))\n",
    "    #print(\"F1-score : {.4f}\".format(fscore))\n",
    "    print(classification_report(testY, test_pred))\n",
    "    return clf"
   ]
  },
  {
   "cell_type": "markdown",
   "metadata": {},
   "source": [
    "**Gaussian SVC without standardization**"
   ]
  },
  {
   "cell_type": "code",
   "execution_count": 14,
   "metadata": {},
   "outputs": [],
   "source": [
    "# dict collects classifiers\n",
    "gaussianSVC_classifiers = {}\n",
    "\n",
    "# create grid of tuned parameter\n",
    "tuned_params = {'C' : np.logspace(1, 4, 4), \n",
    "                'gamma' : np.logspace(-3, 6, 10)}\n",
    "\n",
    "# create a data splitter for cross-validation\n",
    "splitter = StratifiedKFold(10, random_state=5036, shuffle=True)\n",
    "\n",
    "# some general settings of grid search\n",
    "settings = {\n",
    "    'param_grid' : tuned_params, \n",
    "    'cv' : splitter,\n",
    "    'scoring' : 'f1_weighted', \n",
    "    'verbose' : 1\n",
    "}"
   ]
  },
  {
   "cell_type": "code",
   "execution_count": 15,
   "metadata": {
    "scrolled": false
   },
   "outputs": [
    {
     "name": "stdout",
     "output_type": "stream",
     "text": [
      "Fitting 10 folds for each of 40 candidates, totalling 400 fits\n"
     ]
    },
    {
     "name": "stderr",
     "output_type": "stream",
     "text": [
      "[Parallel(n_jobs=1)]: Using backend SequentialBackend with 1 concurrent workers.\n"
     ]
    },
    {
     "name": "stdout",
     "output_type": "stream",
     "text": [
      "Grid scores on development set:\n",
      "\n",
      "0.827 (+/-0.026) for {'C': 10.0, 'gamma': 0.001}\n",
      "0.930 (+/-0.016) for {'C': 10.0, 'gamma': 0.01}\n",
      "0.971 (+/-0.012) for {'C': 10.0, 'gamma': 0.1}\n",
      "0.991 (+/-0.007) for {'C': 10.0, 'gamma': 1.0}\n",
      "0.986 (+/-0.010) for {'C': 10.0, 'gamma': 10.0}\n",
      "0.791 (+/-0.040) for {'C': 10.0, 'gamma': 100.0}\n",
      "0.492 (+/-0.021) for {'C': 10.0, 'gamma': 1000.0}\n",
      "0.472 (+/-0.005) for {'C': 10.0, 'gamma': 10000.0}\n",
      "0.470 (+/-0.002) for {'C': 10.0, 'gamma': 100000.0}\n",
      "0.470 (+/-0.002) for {'C': 10.0, 'gamma': 1000000.0}\n",
      "0.930 (+/-0.016) for {'C': 100.0, 'gamma': 0.001}\n",
      "0.941 (+/-0.020) for {'C': 100.0, 'gamma': 0.01}\n",
      "0.983 (+/-0.007) for {'C': 100.0, 'gamma': 0.1}\n",
      "0.992 (+/-0.007) for {'C': 100.0, 'gamma': 1.0}\n",
      "0.986 (+/-0.010) for {'C': 100.0, 'gamma': 10.0}\n",
      "0.791 (+/-0.040) for {'C': 100.0, 'gamma': 100.0}\n",
      "0.492 (+/-0.021) for {'C': 100.0, 'gamma': 1000.0}\n",
      "0.472 (+/-0.005) for {'C': 100.0, 'gamma': 10000.0}\n",
      "0.470 (+/-0.002) for {'C': 100.0, 'gamma': 100000.0}\n",
      "0.470 (+/-0.002) for {'C': 100.0, 'gamma': 1000000.0}\n",
      "0.938 (+/-0.021) for {'C': 1000.0, 'gamma': 0.001}\n",
      "0.971 (+/-0.013) for {'C': 1000.0, 'gamma': 0.01}\n",
      "0.986 (+/-0.006) for {'C': 1000.0, 'gamma': 0.1}\n",
      "0.992 (+/-0.007) for {'C': 1000.0, 'gamma': 1.0}\n",
      "0.986 (+/-0.010) for {'C': 1000.0, 'gamma': 10.0}\n",
      "0.791 (+/-0.040) for {'C': 1000.0, 'gamma': 100.0}\n",
      "0.492 (+/-0.021) for {'C': 1000.0, 'gamma': 1000.0}\n",
      "0.472 (+/-0.005) for {'C': 1000.0, 'gamma': 10000.0}\n",
      "0.470 (+/-0.002) for {'C': 1000.0, 'gamma': 100000.0}\n",
      "0.470 (+/-0.002) for {'C': 1000.0, 'gamma': 1000000.0}\n",
      "0.955 (+/-0.021) for {'C': 10000.0, 'gamma': 0.001}\n",
      "0.981 (+/-0.008) for {'C': 10000.0, 'gamma': 0.01}\n",
      "0.986 (+/-0.013) for {'C': 10000.0, 'gamma': 0.1}\n",
      "0.992 (+/-0.007) for {'C': 10000.0, 'gamma': 1.0}\n",
      "0.986 (+/-0.010) for {'C': 10000.0, 'gamma': 10.0}\n",
      "0.791 (+/-0.040) for {'C': 10000.0, 'gamma': 100.0}\n",
      "0.492 (+/-0.021) for {'C': 10000.0, 'gamma': 1000.0}\n",
      "0.472 (+/-0.005) for {'C': 10000.0, 'gamma': 10000.0}\n",
      "0.470 (+/-0.002) for {'C': 10000.0, 'gamma': 100000.0}\n",
      "0.470 (+/-0.002) for {'C': 10000.0, 'gamma': 1000000.0}\n",
      "\n",
      "The best parameter setting is:\n",
      "{'C': 100.0, 'gamma': 1.0} \n",
      "\n",
      "              precision    recall  f1-score   support\n",
      "\n",
      "           0       0.99      1.00      0.99      1317\n",
      "           1       0.99      0.99      0.99       154\n",
      "           2       0.99      0.98      0.99       673\n",
      "           3       0.93      0.93      0.93        15\n",
      "\n",
      "    accuracy                           0.99      2159\n",
      "   macro avg       0.98      0.98      0.98      2159\n",
      "weighted avg       0.99      0.99      0.99      2159\n",
      "\n"
     ]
    },
    {
     "name": "stderr",
     "output_type": "stream",
     "text": [
      "[Parallel(n_jobs=1)]: Done 400 out of 400 | elapsed:  5.8min finished\n"
     ]
    }
   ],
   "source": [
    "# Label - Family : no standardization\n",
    "gaussianSVC_classifiers['Family'] = paramSearch(SVC(kernel='rbf'), settings,\n",
    "                                                train_X, train_Family, \n",
    "                                                test_X, test_Family)"
   ]
  },
  {
   "cell_type": "code",
   "execution_count": 16,
   "metadata": {},
   "outputs": [
    {
     "name": "stderr",
     "output_type": "stream",
     "text": [
      "[Parallel(n_jobs=1)]: Using backend SequentialBackend with 1 concurrent workers.\n"
     ]
    },
    {
     "name": "stdout",
     "output_type": "stream",
     "text": [
      "Fitting 10 folds for each of 40 candidates, totalling 400 fits\n",
      "Grid scores on development set:\n",
      "\n",
      "0.744 (+/-0.026) for {'C': 10.0, 'gamma': 0.001}\n",
      "0.920 (+/-0.019) for {'C': 10.0, 'gamma': 0.01}\n",
      "0.973 (+/-0.014) for {'C': 10.0, 'gamma': 0.1}\n",
      "0.988 (+/-0.009) for {'C': 10.0, 'gamma': 1.0}\n",
      "0.980 (+/-0.011) for {'C': 10.0, 'gamma': 10.0}\n",
      "0.733 (+/-0.042) for {'C': 10.0, 'gamma': 100.0}\n",
      "0.442 (+/-0.014) for {'C': 10.0, 'gamma': 1000.0}\n",
      "0.425 (+/-0.004) for {'C': 10.0, 'gamma': 10000.0}\n",
      "0.423 (+/-0.001) for {'C': 10.0, 'gamma': 100000.0}\n",
      "0.423 (+/-0.001) for {'C': 10.0, 'gamma': 1000000.0}\n",
      "0.919 (+/-0.017) for {'C': 100.0, 'gamma': 0.001}\n",
      "0.965 (+/-0.016) for {'C': 100.0, 'gamma': 0.01}\n",
      "0.985 (+/-0.009) for {'C': 100.0, 'gamma': 0.1}\n",
      "0.989 (+/-0.007) for {'C': 100.0, 'gamma': 1.0}\n",
      "0.980 (+/-0.011) for {'C': 100.0, 'gamma': 10.0}\n",
      "0.733 (+/-0.042) for {'C': 100.0, 'gamma': 100.0}\n",
      "0.442 (+/-0.014) for {'C': 100.0, 'gamma': 1000.0}\n",
      "0.425 (+/-0.004) for {'C': 100.0, 'gamma': 10000.0}\n",
      "0.423 (+/-0.001) for {'C': 100.0, 'gamma': 100000.0}\n",
      "0.423 (+/-0.001) for {'C': 100.0, 'gamma': 1000000.0}\n",
      "0.962 (+/-0.020) for {'C': 1000.0, 'gamma': 0.001}\n",
      "0.974 (+/-0.015) for {'C': 1000.0, 'gamma': 0.01}\n",
      "0.988 (+/-0.011) for {'C': 1000.0, 'gamma': 0.1}\n",
      "0.989 (+/-0.007) for {'C': 1000.0, 'gamma': 1.0}\n",
      "0.980 (+/-0.011) for {'C': 1000.0, 'gamma': 10.0}\n",
      "0.733 (+/-0.042) for {'C': 1000.0, 'gamma': 100.0}\n",
      "0.442 (+/-0.014) for {'C': 1000.0, 'gamma': 1000.0}\n",
      "0.425 (+/-0.004) for {'C': 1000.0, 'gamma': 10000.0}\n",
      "0.423 (+/-0.001) for {'C': 1000.0, 'gamma': 100000.0}\n",
      "0.423 (+/-0.001) for {'C': 1000.0, 'gamma': 1000000.0}\n",
      "0.971 (+/-0.011) for {'C': 10000.0, 'gamma': 0.001}\n",
      "0.983 (+/-0.014) for {'C': 10000.0, 'gamma': 0.01}\n",
      "0.987 (+/-0.009) for {'C': 10000.0, 'gamma': 0.1}\n",
      "0.989 (+/-0.007) for {'C': 10000.0, 'gamma': 1.0}\n",
      "0.980 (+/-0.011) for {'C': 10000.0, 'gamma': 10.0}\n",
      "0.733 (+/-0.042) for {'C': 10000.0, 'gamma': 100.0}\n",
      "0.442 (+/-0.014) for {'C': 10000.0, 'gamma': 1000.0}\n",
      "0.425 (+/-0.004) for {'C': 10000.0, 'gamma': 10000.0}\n",
      "0.423 (+/-0.001) for {'C': 10000.0, 'gamma': 100000.0}\n",
      "0.423 (+/-0.001) for {'C': 10000.0, 'gamma': 1000000.0}\n",
      "\n",
      "The best parameter setting is:\n",
      "{'C': 100.0, 'gamma': 1.0} \n",
      "\n",
      "              precision    recall  f1-score   support\n",
      "\n",
      "           0       0.99      1.00      1.00      1240\n",
      "           1       0.99      0.99      0.99       154\n",
      "           2       0.97      0.95      0.96        91\n",
      "           3       0.99      0.99      0.99       479\n",
      "           4       0.95      1.00      0.97        77\n",
      "           5       1.00      0.87      0.93        47\n",
      "           6       1.00      0.93      0.97        15\n",
      "           7       1.00      0.98      0.99        56\n",
      "\n",
      "    accuracy                           0.99      2159\n",
      "   macro avg       0.99      0.96      0.97      2159\n",
      "weighted avg       0.99      0.99      0.99      2159\n",
      "\n"
     ]
    },
    {
     "name": "stderr",
     "output_type": "stream",
     "text": [
      "[Parallel(n_jobs=1)]: Done 400 out of 400 | elapsed:  8.6min finished\n"
     ]
    }
   ],
   "source": [
    "# Label - Genus  : no standardization\n",
    "gaussianSVC_classifiers['Genus'] = paramSearch(SVC(kernel='rbf'), settings,\n",
    "                                               train_X, train_Genus, \n",
    "                                               test_X, test_Genus)"
   ]
  },
  {
   "cell_type": "code",
   "execution_count": 17,
   "metadata": {},
   "outputs": [
    {
     "name": "stderr",
     "output_type": "stream",
     "text": [
      "[Parallel(n_jobs=1)]: Using backend SequentialBackend with 1 concurrent workers.\n"
     ]
    },
    {
     "name": "stdout",
     "output_type": "stream",
     "text": [
      "Fitting 10 folds for each of 40 candidates, totalling 400 fits\n",
      "Grid scores on development set:\n",
      "\n",
      "0.800 (+/-0.015) for {'C': 10.0, 'gamma': 0.001}\n",
      "0.935 (+/-0.021) for {'C': 10.0, 'gamma': 0.01}\n",
      "0.974 (+/-0.017) for {'C': 10.0, 'gamma': 0.1}\n",
      "0.988 (+/-0.011) for {'C': 10.0, 'gamma': 1.0}\n",
      "0.978 (+/-0.010) for {'C': 10.0, 'gamma': 10.0}\n",
      "0.656 (+/-0.040) for {'C': 10.0, 'gamma': 100.0}\n",
      "0.330 (+/-0.015) for {'C': 10.0, 'gamma': 1000.0}\n",
      "0.314 (+/-0.005) for {'C': 10.0, 'gamma': 10000.0}\n",
      "0.312 (+/-0.001) for {'C': 10.0, 'gamma': 100000.0}\n",
      "0.312 (+/-0.001) for {'C': 10.0, 'gamma': 1000000.0}\n",
      "0.935 (+/-0.021) for {'C': 100.0, 'gamma': 0.001}\n",
      "0.970 (+/-0.018) for {'C': 100.0, 'gamma': 0.01}\n",
      "0.985 (+/-0.019) for {'C': 100.0, 'gamma': 0.1}\n",
      "0.988 (+/-0.011) for {'C': 100.0, 'gamma': 1.0}\n",
      "0.978 (+/-0.010) for {'C': 100.0, 'gamma': 10.0}\n",
      "0.656 (+/-0.040) for {'C': 100.0, 'gamma': 100.0}\n",
      "0.330 (+/-0.015) for {'C': 100.0, 'gamma': 1000.0}\n",
      "0.314 (+/-0.005) for {'C': 100.0, 'gamma': 10000.0}\n",
      "0.312 (+/-0.001) for {'C': 100.0, 'gamma': 100000.0}\n",
      "0.312 (+/-0.001) for {'C': 100.0, 'gamma': 1000000.0}\n",
      "0.969 (+/-0.019) for {'C': 1000.0, 'gamma': 0.001}\n",
      "0.979 (+/-0.018) for {'C': 1000.0, 'gamma': 0.01}\n",
      "0.986 (+/-0.013) for {'C': 1000.0, 'gamma': 0.1}\n",
      "0.988 (+/-0.011) for {'C': 1000.0, 'gamma': 1.0}\n",
      "0.978 (+/-0.010) for {'C': 1000.0, 'gamma': 10.0}\n",
      "0.656 (+/-0.040) for {'C': 1000.0, 'gamma': 100.0}\n",
      "0.330 (+/-0.015) for {'C': 1000.0, 'gamma': 1000.0}\n",
      "0.314 (+/-0.005) for {'C': 1000.0, 'gamma': 10000.0}\n",
      "0.312 (+/-0.001) for {'C': 1000.0, 'gamma': 100000.0}\n",
      "0.312 (+/-0.001) for {'C': 1000.0, 'gamma': 1000000.0}\n",
      "0.978 (+/-0.015) for {'C': 10000.0, 'gamma': 0.001}\n",
      "0.981 (+/-0.017) for {'C': 10000.0, 'gamma': 0.01}\n",
      "0.985 (+/-0.013) for {'C': 10000.0, 'gamma': 0.1}\n",
      "0.988 (+/-0.011) for {'C': 10000.0, 'gamma': 1.0}\n",
      "0.978 (+/-0.010) for {'C': 10000.0, 'gamma': 10.0}\n",
      "0.656 (+/-0.040) for {'C': 10000.0, 'gamma': 100.0}\n",
      "0.330 (+/-0.015) for {'C': 10000.0, 'gamma': 1000.0}\n",
      "0.314 (+/-0.005) for {'C': 10000.0, 'gamma': 10000.0}\n",
      "0.312 (+/-0.001) for {'C': 10000.0, 'gamma': 100000.0}\n",
      "0.312 (+/-0.001) for {'C': 10000.0, 'gamma': 1000000.0}\n",
      "\n",
      "The best parameter setting is:\n",
      "{'C': 100.0, 'gamma': 1.0} \n",
      "\n",
      "              precision    recall  f1-score   support\n",
      "\n",
      "           0       0.99      0.98      0.99       182\n",
      "           1       0.98      0.99      0.99       154\n",
      "           2       0.99      1.00      1.00      1058\n",
      "           3       0.97      0.95      0.96        91\n",
      "           4       0.98      0.99      0.99       153\n",
      "           5       0.99      0.98      0.99       326\n",
      "           6       0.97      1.00      0.99        77\n",
      "           7       0.98      0.89      0.93        47\n",
      "           8       1.00      0.93      0.97        15\n",
      "           9       1.00      0.98      0.99        56\n",
      "\n",
      "    accuracy                           0.99      2159\n",
      "   macro avg       0.99      0.97      0.98      2159\n",
      "weighted avg       0.99      0.99      0.99      2159\n",
      "\n"
     ]
    },
    {
     "name": "stderr",
     "output_type": "stream",
     "text": [
      "[Parallel(n_jobs=1)]: Done 400 out of 400 | elapsed:  8.6min finished\n"
     ]
    }
   ],
   "source": [
    "# Label - Species : no standardization\n",
    "gaussianSVC_classifiers['Species'] = paramSearch(SVC(kernel='rbf'), settings,\n",
    "                                                 train_X, train_Species, \n",
    "                                                 test_X, test_Species)"
   ]
  },
  {
   "cell_type": "code",
   "execution_count": 18,
   "metadata": {
    "scrolled": true
   },
   "outputs": [
    {
     "name": "stdout",
     "output_type": "stream",
     "text": [
      "Multilabel evaluation of Gaussian Kernel SVC without Standarization\n",
      "--------------------------------------------------------------------------------\n",
      "Hamming Loss : 0.0096\n",
      "Exact Match Ratio : 0.9852\n"
     ]
    }
   ],
   "source": [
    "# evaluation of multilabel problem\n",
    "classifier_summary['GaussianSVC_wo_std'] = multilabelEval('Gaussian Kernel SVC without Standarization', \n",
    "                                                          test_X, mfcc_test.iloc[:, -4:-1], \n",
    "                                                          gaussianSVC_classifiers)"
   ]
  },
  {
   "cell_type": "markdown",
   "metadata": {},
   "source": [
    "**Gaussian SVC with standardization**"
   ]
  },
  {
   "cell_type": "code",
   "execution_count": 19,
   "metadata": {},
   "outputs": [],
   "source": [
    "from sklearn.preprocessing import StandardScaler\n",
    "\n",
    "# standardize data\n",
    "std_scaler = StandardScaler()\n",
    "std_train_X = std_scaler.fit_transform(train_X)\n",
    "std_test_X = std_scaler.fit_transform(test_X)"
   ]
  },
  {
   "cell_type": "code",
   "execution_count": 20,
   "metadata": {},
   "outputs": [
    {
     "name": "stdout",
     "output_type": "stream",
     "text": [
      "Fitting 10 folds for each of 40 candidates, totalling 400 fits\n"
     ]
    },
    {
     "name": "stderr",
     "output_type": "stream",
     "text": [
      "[Parallel(n_jobs=1)]: Using backend SequentialBackend with 1 concurrent workers.\n",
      "[Parallel(n_jobs=1)]: Done 400 out of 400 | elapsed:  9.1min finished\n"
     ]
    },
    {
     "name": "stdout",
     "output_type": "stream",
     "text": [
      "Grid scores on development set:\n",
      "\n",
      "0.945 (+/-0.021) for {'C': 10.0, 'gamma': 0.001}\n",
      "0.988 (+/-0.005) for {'C': 10.0, 'gamma': 0.01}\n",
      "0.990 (+/-0.007) for {'C': 10.0, 'gamma': 0.1}\n",
      "0.905 (+/-0.023) for {'C': 10.0, 'gamma': 1.0}\n",
      "0.575 (+/-0.047) for {'C': 10.0, 'gamma': 10.0}\n",
      "0.473 (+/-0.004) for {'C': 10.0, 'gamma': 100.0}\n",
      "0.470 (+/-0.002) for {'C': 10.0, 'gamma': 1000.0}\n",
      "0.470 (+/-0.002) for {'C': 10.0, 'gamma': 10000.0}\n",
      "0.470 (+/-0.002) for {'C': 10.0, 'gamma': 100000.0}\n",
      "0.470 (+/-0.002) for {'C': 10.0, 'gamma': 1000000.0}\n",
      "0.976 (+/-0.011) for {'C': 100.0, 'gamma': 0.001}\n",
      "0.989 (+/-0.006) for {'C': 100.0, 'gamma': 0.01}\n",
      "0.990 (+/-0.007) for {'C': 100.0, 'gamma': 0.1}\n",
      "0.905 (+/-0.023) for {'C': 100.0, 'gamma': 1.0}\n",
      "0.575 (+/-0.047) for {'C': 100.0, 'gamma': 10.0}\n",
      "0.473 (+/-0.004) for {'C': 100.0, 'gamma': 100.0}\n",
      "0.470 (+/-0.002) for {'C': 100.0, 'gamma': 1000.0}\n",
      "0.470 (+/-0.002) for {'C': 100.0, 'gamma': 10000.0}\n",
      "0.470 (+/-0.002) for {'C': 100.0, 'gamma': 100000.0}\n",
      "0.470 (+/-0.002) for {'C': 100.0, 'gamma': 1000000.0}\n",
      "0.984 (+/-0.006) for {'C': 1000.0, 'gamma': 0.001}\n",
      "0.990 (+/-0.008) for {'C': 1000.0, 'gamma': 0.01}\n",
      "0.990 (+/-0.007) for {'C': 1000.0, 'gamma': 0.1}\n",
      "0.905 (+/-0.023) for {'C': 1000.0, 'gamma': 1.0}\n",
      "0.575 (+/-0.047) for {'C': 1000.0, 'gamma': 10.0}\n",
      "0.473 (+/-0.004) for {'C': 1000.0, 'gamma': 100.0}\n",
      "0.470 (+/-0.002) for {'C': 1000.0, 'gamma': 1000.0}\n",
      "0.470 (+/-0.002) for {'C': 1000.0, 'gamma': 10000.0}\n",
      "0.470 (+/-0.002) for {'C': 1000.0, 'gamma': 100000.0}\n",
      "0.470 (+/-0.002) for {'C': 1000.0, 'gamma': 1000000.0}\n",
      "0.985 (+/-0.006) for {'C': 10000.0, 'gamma': 0.001}\n",
      "0.990 (+/-0.008) for {'C': 10000.0, 'gamma': 0.01}\n",
      "0.990 (+/-0.007) for {'C': 10000.0, 'gamma': 0.1}\n",
      "0.905 (+/-0.023) for {'C': 10000.0, 'gamma': 1.0}\n",
      "0.575 (+/-0.047) for {'C': 10000.0, 'gamma': 10.0}\n",
      "0.473 (+/-0.004) for {'C': 10000.0, 'gamma': 100.0}\n",
      "0.470 (+/-0.002) for {'C': 10000.0, 'gamma': 1000.0}\n",
      "0.470 (+/-0.002) for {'C': 10000.0, 'gamma': 10000.0}\n",
      "0.470 (+/-0.002) for {'C': 10000.0, 'gamma': 100000.0}\n",
      "0.470 (+/-0.002) for {'C': 10000.0, 'gamma': 1000000.0}\n",
      "\n",
      "The best parameter setting is:\n",
      "{'C': 10.0, 'gamma': 0.1} \n",
      "\n",
      "              precision    recall  f1-score   support\n",
      "\n",
      "           0       1.00      0.99      0.99      1317\n",
      "           1       1.00      1.00      1.00       154\n",
      "           2       0.98      1.00      0.99       673\n",
      "           3       1.00      0.87      0.93        15\n",
      "\n",
      "    accuracy                           0.99      2159\n",
      "   macro avg       0.99      0.96      0.98      2159\n",
      "weighted avg       0.99      0.99      0.99      2159\n",
      "\n"
     ]
    }
   ],
   "source": [
    "# Label - Family : with standardization\n",
    "gaussianSVC_classifiers['Family'] = paramSearch(SVC(kernel='rbf'), settings,\n",
    "                                                std_train_X, train_Family, \n",
    "                                                std_test_X, test_Family)"
   ]
  },
  {
   "cell_type": "code",
   "execution_count": 21,
   "metadata": {},
   "outputs": [
    {
     "name": "stdout",
     "output_type": "stream",
     "text": [
      "Fitting 10 folds for each of 40 candidates, totalling 400 fits\n"
     ]
    },
    {
     "name": "stderr",
     "output_type": "stream",
     "text": [
      "[Parallel(n_jobs=1)]: Using backend SequentialBackend with 1 concurrent workers.\n"
     ]
    },
    {
     "name": "stdout",
     "output_type": "stream",
     "text": [
      "Grid scores on development set:\n",
      "\n",
      "0.958 (+/-0.018) for {'C': 10.0, 'gamma': 0.001}\n",
      "0.986 (+/-0.008) for {'C': 10.0, 'gamma': 0.01}\n",
      "0.987 (+/-0.009) for {'C': 10.0, 'gamma': 0.1}\n",
      "0.857 (+/-0.020) for {'C': 10.0, 'gamma': 1.0}\n",
      "0.513 (+/-0.018) for {'C': 10.0, 'gamma': 10.0}\n",
      "0.426 (+/-0.006) for {'C': 10.0, 'gamma': 100.0}\n",
      "0.423 (+/-0.001) for {'C': 10.0, 'gamma': 1000.0}\n",
      "0.423 (+/-0.001) for {'C': 10.0, 'gamma': 10000.0}\n",
      "0.423 (+/-0.001) for {'C': 10.0, 'gamma': 100000.0}\n",
      "0.423 (+/-0.001) for {'C': 10.0, 'gamma': 1000000.0}\n",
      "0.977 (+/-0.013) for {'C': 100.0, 'gamma': 0.001}\n",
      "0.988 (+/-0.008) for {'C': 100.0, 'gamma': 0.01}\n",
      "0.987 (+/-0.009) for {'C': 100.0, 'gamma': 0.1}\n",
      "0.857 (+/-0.020) for {'C': 100.0, 'gamma': 1.0}\n",
      "0.513 (+/-0.018) for {'C': 100.0, 'gamma': 10.0}\n",
      "0.426 (+/-0.006) for {'C': 100.0, 'gamma': 100.0}\n",
      "0.423 (+/-0.001) for {'C': 100.0, 'gamma': 1000.0}\n",
      "0.423 (+/-0.001) for {'C': 100.0, 'gamma': 10000.0}\n",
      "0.423 (+/-0.001) for {'C': 100.0, 'gamma': 100000.0}\n",
      "0.423 (+/-0.001) for {'C': 100.0, 'gamma': 1000000.0}\n",
      "0.985 (+/-0.007) for {'C': 1000.0, 'gamma': 0.001}\n",
      "0.987 (+/-0.007) for {'C': 1000.0, 'gamma': 0.01}\n",
      "0.987 (+/-0.009) for {'C': 1000.0, 'gamma': 0.1}\n",
      "0.857 (+/-0.020) for {'C': 1000.0, 'gamma': 1.0}\n",
      "0.513 (+/-0.018) for {'C': 1000.0, 'gamma': 10.0}\n",
      "0.426 (+/-0.006) for {'C': 1000.0, 'gamma': 100.0}\n",
      "0.423 (+/-0.001) for {'C': 1000.0, 'gamma': 1000.0}\n",
      "0.423 (+/-0.001) for {'C': 1000.0, 'gamma': 10000.0}\n",
      "0.423 (+/-0.001) for {'C': 1000.0, 'gamma': 100000.0}\n",
      "0.423 (+/-0.001) for {'C': 1000.0, 'gamma': 1000000.0}\n",
      "0.984 (+/-0.012) for {'C': 10000.0, 'gamma': 0.001}\n",
      "0.987 (+/-0.007) for {'C': 10000.0, 'gamma': 0.01}\n",
      "0.987 (+/-0.009) for {'C': 10000.0, 'gamma': 0.1}\n",
      "0.857 (+/-0.020) for {'C': 10000.0, 'gamma': 1.0}\n",
      "0.513 (+/-0.018) for {'C': 10000.0, 'gamma': 10.0}\n",
      "0.426 (+/-0.006) for {'C': 10000.0, 'gamma': 100.0}\n",
      "0.423 (+/-0.001) for {'C': 10000.0, 'gamma': 1000.0}\n",
      "0.423 (+/-0.001) for {'C': 10000.0, 'gamma': 10000.0}\n",
      "0.423 (+/-0.001) for {'C': 10000.0, 'gamma': 100000.0}\n",
      "0.423 (+/-0.001) for {'C': 10000.0, 'gamma': 1000000.0}\n",
      "\n",
      "The best parameter setting is:\n",
      "{'C': 100.0, 'gamma': 0.01} \n",
      "\n",
      "              precision    recall  f1-score   support\n",
      "\n",
      "           0       0.99      1.00      0.99      1240\n",
      "           1       0.99      0.99      0.99       154\n",
      "           2       0.96      0.95      0.95        91\n",
      "           3       0.98      0.98      0.98       479\n",
      "           4       0.96      0.99      0.97        77\n",
      "           5       1.00      0.85      0.92        47\n",
      "           6       0.88      1.00      0.94        15\n",
      "           7       1.00      0.96      0.98        56\n",
      "\n",
      "    accuracy                           0.99      2159\n",
      "   macro avg       0.97      0.96      0.97      2159\n",
      "weighted avg       0.99      0.99      0.99      2159\n",
      "\n"
     ]
    },
    {
     "name": "stderr",
     "output_type": "stream",
     "text": [
      "[Parallel(n_jobs=1)]: Done 400 out of 400 | elapsed: 11.5min finished\n"
     ]
    }
   ],
   "source": [
    "# Label - Genus : with standardization\n",
    "gaussianSVC_classifiers['Genus'] = paramSearch(SVC(kernel='rbf'), settings,\n",
    "                                               std_train_X, train_Genus, \n",
    "                                               std_test_X, test_Genus)"
   ]
  },
  {
   "cell_type": "code",
   "execution_count": 22,
   "metadata": {},
   "outputs": [
    {
     "name": "stderr",
     "output_type": "stream",
     "text": [
      "[Parallel(n_jobs=1)]: Using backend SequentialBackend with 1 concurrent workers.\n"
     ]
    },
    {
     "name": "stdout",
     "output_type": "stream",
     "text": [
      "Fitting 10 folds for each of 40 candidates, totalling 400 fits\n",
      "Grid scores on development set:\n",
      "\n",
      "0.967 (+/-0.018) for {'C': 10.0, 'gamma': 0.001}\n",
      "0.987 (+/-0.013) for {'C': 10.0, 'gamma': 0.01}\n",
      "0.985 (+/-0.008) for {'C': 10.0, 'gamma': 0.1}\n",
      "0.835 (+/-0.024) for {'C': 10.0, 'gamma': 1.0}\n",
      "0.389 (+/-0.026) for {'C': 10.0, 'gamma': 10.0}\n",
      "0.315 (+/-0.006) for {'C': 10.0, 'gamma': 100.0}\n",
      "0.312 (+/-0.001) for {'C': 10.0, 'gamma': 1000.0}\n",
      "0.312 (+/-0.001) for {'C': 10.0, 'gamma': 10000.0}\n",
      "0.312 (+/-0.001) for {'C': 10.0, 'gamma': 100000.0}\n",
      "0.312 (+/-0.001) for {'C': 10.0, 'gamma': 1000000.0}\n",
      "0.980 (+/-0.014) for {'C': 100.0, 'gamma': 0.001}\n",
      "0.987 (+/-0.012) for {'C': 100.0, 'gamma': 0.01}\n",
      "0.985 (+/-0.008) for {'C': 100.0, 'gamma': 0.1}\n",
      "0.835 (+/-0.024) for {'C': 100.0, 'gamma': 1.0}\n",
      "0.389 (+/-0.026) for {'C': 100.0, 'gamma': 10.0}\n",
      "0.315 (+/-0.006) for {'C': 100.0, 'gamma': 100.0}\n",
      "0.312 (+/-0.001) for {'C': 100.0, 'gamma': 1000.0}\n",
      "0.312 (+/-0.001) for {'C': 100.0, 'gamma': 10000.0}\n",
      "0.312 (+/-0.001) for {'C': 100.0, 'gamma': 100000.0}\n",
      "0.312 (+/-0.001) for {'C': 100.0, 'gamma': 1000000.0}\n",
      "0.983 (+/-0.015) for {'C': 1000.0, 'gamma': 0.001}\n",
      "0.987 (+/-0.013) for {'C': 1000.0, 'gamma': 0.01}\n",
      "0.985 (+/-0.008) for {'C': 1000.0, 'gamma': 0.1}\n",
      "0.835 (+/-0.024) for {'C': 1000.0, 'gamma': 1.0}\n",
      "0.389 (+/-0.026) for {'C': 1000.0, 'gamma': 10.0}\n",
      "0.315 (+/-0.006) for {'C': 1000.0, 'gamma': 100.0}\n",
      "0.312 (+/-0.001) for {'C': 1000.0, 'gamma': 1000.0}\n",
      "0.312 (+/-0.001) for {'C': 1000.0, 'gamma': 10000.0}\n",
      "0.312 (+/-0.001) for {'C': 1000.0, 'gamma': 100000.0}\n",
      "0.312 (+/-0.001) for {'C': 1000.0, 'gamma': 1000000.0}\n",
      "0.983 (+/-0.014) for {'C': 10000.0, 'gamma': 0.001}\n",
      "0.987 (+/-0.013) for {'C': 10000.0, 'gamma': 0.01}\n",
      "0.985 (+/-0.008) for {'C': 10000.0, 'gamma': 0.1}\n",
      "0.835 (+/-0.024) for {'C': 10000.0, 'gamma': 1.0}\n",
      "0.389 (+/-0.026) for {'C': 10000.0, 'gamma': 10.0}\n",
      "0.315 (+/-0.006) for {'C': 10000.0, 'gamma': 100.0}\n",
      "0.312 (+/-0.001) for {'C': 10000.0, 'gamma': 1000.0}\n",
      "0.312 (+/-0.001) for {'C': 10000.0, 'gamma': 10000.0}\n",
      "0.312 (+/-0.001) for {'C': 10000.0, 'gamma': 100000.0}\n",
      "0.312 (+/-0.001) for {'C': 10000.0, 'gamma': 1000000.0}\n",
      "\n",
      "The best parameter setting is:\n",
      "{'C': 100.0, 'gamma': 0.01} \n",
      "\n",
      "              precision    recall  f1-score   support\n",
      "\n",
      "           0       0.98      0.98      0.98       182\n",
      "           1       0.99      0.99      0.99       154\n",
      "           2       0.99      1.00      1.00      1058\n",
      "           3       0.94      0.93      0.94        91\n",
      "           4       0.97      0.99      0.98       153\n",
      "           5       0.99      0.98      0.99       326\n",
      "           6       0.97      0.99      0.98        77\n",
      "           7       0.95      0.89      0.92        47\n",
      "           8       0.88      1.00      0.94        15\n",
      "           9       1.00      0.98      0.99        56\n",
      "\n",
      "    accuracy                           0.99      2159\n",
      "   macro avg       0.97      0.97      0.97      2159\n",
      "weighted avg       0.99      0.99      0.99      2159\n",
      "\n"
     ]
    },
    {
     "name": "stderr",
     "output_type": "stream",
     "text": [
      "[Parallel(n_jobs=1)]: Done 400 out of 400 | elapsed: 11.6min finished\n"
     ]
    }
   ],
   "source": [
    "# Label - Species : with standardization\n",
    "gaussianSVC_classifiers['Species'] = paramSearch(SVC(kernel='rbf'), settings,\n",
    "                                                 std_train_X, train_Species, \n",
    "                                                 std_test_X, test_Species)"
   ]
  },
  {
   "cell_type": "code",
   "execution_count": 23,
   "metadata": {},
   "outputs": [
    {
     "name": "stdout",
     "output_type": "stream",
     "text": [
      "Multilabel evaluation of Gaussian Kernel SVC with Standarization\n",
      "--------------------------------------------------------------------------------\n",
      "Hamming Loss : 0.0117\n",
      "Exact Match Ratio : 0.9787\n"
     ]
    }
   ],
   "source": [
    "classifier_summary['GaussianSVC_w_std'] = multilabelEval('Gaussian Kernel SVC with Standarization', \n",
    "                                                         std_test_X, mfcc_test.iloc[:, -4:-1], \n",
    "                                                         gaussianSVC_classifiers)"
   ]
  },
  {
   "cell_type": "markdown",
   "metadata": {},
   "source": [
    "## 1.(b)-iii Repeat 1(b)ii with L1-penalized SVMs."
   ]
  },
  {
   "cell_type": "code",
   "execution_count": 24,
   "metadata": {},
   "outputs": [],
   "source": [
    "from sklearn.svm import LinearSVC\n",
    "# create grid of tuned parameter\n",
    "tuned_params = {'C' : np.logspace(1, 5, 10)}\n",
    "\n",
    "# some general settings of grid search\n",
    "settings = {\n",
    "    'param_grid' : tuned_params, \n",
    "    'cv' : splitter,\n",
    "    'scoring' : 'f1_weighted', \n",
    "    'verbose' : 1\n",
    "}\n",
    "\n",
    "L1_svm_classifiers = {}"
   ]
  },
  {
   "cell_type": "code",
   "execution_count": 25,
   "metadata": {
    "scrolled": false
   },
   "outputs": [
    {
     "name": "stdout",
     "output_type": "stream",
     "text": [
      "Fitting 10 folds for each of 10 candidates, totalling 100 fits\n"
     ]
    },
    {
     "name": "stderr",
     "output_type": "stream",
     "text": [
      "[Parallel(n_jobs=1)]: Using backend SequentialBackend with 1 concurrent workers.\n",
      "[Parallel(n_jobs=1)]: Done 100 out of 100 | elapsed:  2.0min finished\n"
     ]
    },
    {
     "name": "stdout",
     "output_type": "stream",
     "text": [
      "Grid scores on development set:\n",
      "\n",
      "0.928 (+/-0.026) for {'C': 10.0}\n",
      "0.928 (+/-0.027) for {'C': 27.825594022071243}\n",
      "0.928 (+/-0.027) for {'C': 77.4263682681127}\n",
      "0.928 (+/-0.027) for {'C': 215.44346900318823}\n",
      "0.928 (+/-0.027) for {'C': 599.4842503189409}\n",
      "0.928 (+/-0.027) for {'C': 1668.100537200059}\n",
      "0.928 (+/-0.027) for {'C': 4641.588833612777}\n",
      "0.928 (+/-0.027) for {'C': 12915.496650148827}\n",
      "0.928 (+/-0.027) for {'C': 35938.13663804626}\n",
      "0.928 (+/-0.027) for {'C': 100000.0}\n",
      "\n",
      "The best parameter setting is:\n",
      "{'C': 10.0} \n",
      "\n",
      "              precision    recall  f1-score   support\n",
      "\n",
      "           0       0.95      0.98      0.96      1317\n",
      "           1       0.88      0.92      0.90       154\n",
      "           2       0.94      0.90      0.92       673\n",
      "           3       0.00      0.00      0.00        15\n",
      "\n",
      "    accuracy                           0.94      2159\n",
      "   macro avg       0.69      0.70      0.70      2159\n",
      "weighted avg       0.94      0.94      0.94      2159\n",
      "\n"
     ]
    }
   ],
   "source": [
    "# Label - Family : with standardization\n",
    "L1_svm_classifiers['Family'] = paramSearch(LinearSVC(penalty='l1', dual=False), settings,\n",
    "                                           std_train_X, train_Family, std_test_X, test_Family)"
   ]
  },
  {
   "cell_type": "code",
   "execution_count": 26,
   "metadata": {},
   "outputs": [
    {
     "name": "stdout",
     "output_type": "stream",
     "text": [
      "Fitting 10 folds for each of 10 candidates, totalling 100 fits\n"
     ]
    },
    {
     "name": "stderr",
     "output_type": "stream",
     "text": [
      "[Parallel(n_jobs=1)]: Using backend SequentialBackend with 1 concurrent workers.\n",
      "[Parallel(n_jobs=1)]: Done 100 out of 100 | elapsed:  3.3min finished\n"
     ]
    },
    {
     "name": "stdout",
     "output_type": "stream",
     "text": [
      "Grid scores on development set:\n",
      "\n",
      "0.948 (+/-0.012) for {'C': 10.0}\n",
      "0.948 (+/-0.013) for {'C': 27.825594022071243}\n",
      "0.948 (+/-0.012) for {'C': 77.4263682681127}\n",
      "0.947 (+/-0.012) for {'C': 215.44346900318823}\n",
      "0.947 (+/-0.012) for {'C': 599.4842503189409}\n",
      "0.947 (+/-0.012) for {'C': 1668.100537200059}\n",
      "0.947 (+/-0.012) for {'C': 4641.588833612777}\n",
      "0.947 (+/-0.012) for {'C': 12915.496650148827}\n",
      "0.947 (+/-0.012) for {'C': 35938.13663804626}\n",
      "0.947 (+/-0.012) for {'C': 100000.0}\n",
      "\n",
      "The best parameter setting is:\n",
      "{'C': 77.4263682681127} \n",
      "\n",
      "              precision    recall  f1-score   support\n",
      "\n",
      "           0       0.96      0.99      0.98      1240\n",
      "           1       0.92      0.95      0.93       154\n",
      "           2       0.92      0.67      0.78        91\n",
      "           3       0.92      0.98      0.95       479\n",
      "           4       0.97      0.90      0.93        77\n",
      "           5       1.00      0.36      0.53        47\n",
      "           6       0.91      0.67      0.77        15\n",
      "           7       0.95      0.93      0.94        56\n",
      "\n",
      "    accuracy                           0.95      2159\n",
      "   macro avg       0.94      0.80      0.85      2159\n",
      "weighted avg       0.95      0.95      0.94      2159\n",
      "\n"
     ]
    }
   ],
   "source": [
    "# Label - Genus : with standardization\n",
    "L1_svm_classifiers['Genus'] = paramSearch(LinearSVC(penalty='l1', dual=False), settings,\n",
    "                                          std_train_X, train_Genus, std_test_X, test_Genus)"
   ]
  },
  {
   "cell_type": "code",
   "execution_count": 27,
   "metadata": {},
   "outputs": [
    {
     "name": "stdout",
     "output_type": "stream",
     "text": [
      "Fitting 10 folds for each of 10 candidates, totalling 100 fits\n"
     ]
    },
    {
     "name": "stderr",
     "output_type": "stream",
     "text": [
      "[Parallel(n_jobs=1)]: Using backend SequentialBackend with 1 concurrent workers.\n",
      "[Parallel(n_jobs=1)]: Done 100 out of 100 | elapsed:  3.4min finished\n"
     ]
    },
    {
     "name": "stdout",
     "output_type": "stream",
     "text": [
      "Grid scores on development set:\n",
      "\n",
      "0.958 (+/-0.021) for {'C': 10.0}\n",
      "0.959 (+/-0.021) for {'C': 27.825594022071243}\n",
      "0.959 (+/-0.021) for {'C': 77.4263682681127}\n",
      "0.959 (+/-0.022) for {'C': 215.44346900318823}\n",
      "0.959 (+/-0.022) for {'C': 599.4842503189409}\n",
      "0.959 (+/-0.022) for {'C': 1668.100537200059}\n",
      "0.959 (+/-0.022) for {'C': 4641.588833612777}\n",
      "0.959 (+/-0.022) for {'C': 12915.496650148827}\n",
      "0.959 (+/-0.022) for {'C': 35938.13663804626}\n",
      "0.959 (+/-0.022) for {'C': 100000.0}\n",
      "\n",
      "The best parameter setting is:\n",
      "{'C': 215.44346900318823} \n",
      "\n",
      "              precision    recall  f1-score   support\n",
      "\n",
      "           0       0.88      0.94      0.91       182\n",
      "           1       0.94      0.94      0.94       154\n",
      "           2       0.99      1.00      0.99      1058\n",
      "           3       0.92      0.71      0.80        91\n",
      "           4       0.92      0.94      0.93       153\n",
      "           5       0.92      0.96      0.94       326\n",
      "           6       0.97      0.91      0.94        77\n",
      "           7       1.00      0.49      0.66        47\n",
      "           8       0.72      0.87      0.79        15\n",
      "           9       0.93      0.96      0.95        56\n",
      "\n",
      "    accuracy                           0.95      2159\n",
      "   macro avg       0.92      0.87      0.88      2159\n",
      "weighted avg       0.95      0.95      0.95      2159\n",
      "\n"
     ]
    }
   ],
   "source": [
    "# Label - Species : with standardization\n",
    "L1_svm_classifiers['Species'] = paramSearch(LinearSVC(penalty='l1', dual=False), settings,\n",
    "                                            std_train_X, train_Species, std_test_X, test_Species)"
   ]
  },
  {
   "cell_type": "code",
   "execution_count": 28,
   "metadata": {},
   "outputs": [
    {
     "name": "stdout",
     "output_type": "stream",
     "text": [
      "Multilabel evaluation of SVM with L1 penalty\n",
      "--------------------------------------------------------------------------------\n",
      "Hamming Loss : 0.0522\n",
      "Exact Match Ratio : 0.9143\n"
     ]
    }
   ],
   "source": [
    "classifier_summary['SVC_L1'] = multilabelEval('SVM with L1 penalty', \n",
    "                                              std_test_X, mfcc_test.iloc[:, -4:-1], \n",
    "                                              L1_svm_classifiers)"
   ]
  },
  {
   "cell_type": "markdown",
   "metadata": {},
   "source": [
    "## 1.(b)-iv Repeat 1(b)iii by using SMOTE or any other method you know to remedy class imbalance."
   ]
  },
  {
   "cell_type": "code",
   "execution_count": 29,
   "metadata": {},
   "outputs": [],
   "source": [
    "from imblearn.pipeline import Pipeline\n",
    "from imblearn.over_sampling import SMOTE\n",
    "\n",
    "\"\"\"\n",
    "Doc references:\n",
    "https://imbalanced-learn.org/stable/generated/imblearn.pipeline.Pipeline.html\n",
    "https://stackoverflow.com/questions/58815016/cross-validating-with-imblearn-pipeline-and-gridsearchcv\n",
    "\"\"\"\n",
    "\n",
    "# function to preform gridsearch with SMOTEin training\n",
    "def smoteParamSearch(classifier, settings, trainX, trainY, testX, testY):\n",
    "    naive_model = Pipeline([\n",
    "        ('sampling', SMOTE()),\n",
    "        ('classification', classifier)\n",
    "    ])\n",
    "    selected_model = paramSearch(naive_model, settings,\n",
    "                                 trainX, trainY, \n",
    "                                 testX, testY)\n",
    "    return selected_model"
   ]
  },
  {
   "cell_type": "code",
   "execution_count": 30,
   "metadata": {},
   "outputs": [],
   "source": [
    "# create grid of tuned parameter\n",
    "tuned_params = {'classification__C' : np.logspace(1, 5, 10)}\n",
    "\n",
    "# some general settings of grid search\n",
    "settings = {\n",
    "    'param_grid' : tuned_params, \n",
    "    'cv' : splitter,\n",
    "    'scoring' : 'f1_weighted', \n",
    "    'verbose' : 1\n",
    "}\n",
    "\n",
    "smote_svc_classifiers = {}"
   ]
  },
  {
   "cell_type": "code",
   "execution_count": 31,
   "metadata": {},
   "outputs": [
    {
     "name": "stdout",
     "output_type": "stream",
     "text": [
      "Fitting 10 folds for each of 10 candidates, totalling 100 fits\n"
     ]
    },
    {
     "name": "stderr",
     "output_type": "stream",
     "text": [
      "[Parallel(n_jobs=1)]: Using backend SequentialBackend with 1 concurrent workers.\n",
      "[Parallel(n_jobs=1)]: Done 100 out of 100 | elapsed:  7.8min finished\n"
     ]
    },
    {
     "name": "stdout",
     "output_type": "stream",
     "text": [
      "Grid scores on development set:\n",
      "\n",
      "0.920 (+/-0.022) for {'classification__C': 10.0}\n",
      "0.919 (+/-0.027) for {'classification__C': 27.825594022071243}\n",
      "0.920 (+/-0.026) for {'classification__C': 77.4263682681127}\n",
      "0.921 (+/-0.027) for {'classification__C': 215.44346900318823}\n",
      "0.920 (+/-0.028) for {'classification__C': 599.4842503189409}\n",
      "0.921 (+/-0.024) for {'classification__C': 1668.100537200059}\n",
      "0.921 (+/-0.025) for {'classification__C': 4641.588833612777}\n",
      "0.921 (+/-0.024) for {'classification__C': 12915.496650148827}\n",
      "0.920 (+/-0.025) for {'classification__C': 35938.13663804626}\n",
      "0.921 (+/-0.027) for {'classification__C': 100000.0}\n",
      "\n",
      "The best parameter setting is:\n",
      "{'classification__C': 100000.0} \n",
      "\n",
      "              precision    recall  f1-score   support\n",
      "\n",
      "           0       0.96      0.95      0.96      1317\n",
      "           1       0.79      0.98      0.88       154\n",
      "           2       0.95      0.87      0.91       673\n",
      "           3       0.24      1.00      0.38        15\n",
      "\n",
      "    accuracy                           0.92      2159\n",
      "   macro avg       0.74      0.95      0.78      2159\n",
      "weighted avg       0.94      0.92      0.93      2159\n",
      "\n"
     ]
    }
   ],
   "source": [
    "# Label - Family : with standardization, L1 penalty and SMOTE\n",
    "smote_svc_classifiers['Family'] = smoteParamSearch(LinearSVC(penalty='l1', dual=False), settings,\n",
    "                                                   std_train_X, train_Family, std_test_X, test_Family)"
   ]
  },
  {
   "cell_type": "code",
   "execution_count": 36,
   "metadata": {},
   "outputs": [
    {
     "name": "stdout",
     "output_type": "stream",
     "text": [
      "Fitting 10 folds for each of 10 candidates, totalling 100 fits\n"
     ]
    },
    {
     "name": "stderr",
     "output_type": "stream",
     "text": [
      "[Parallel(n_jobs=1)]: Using backend SequentialBackend with 1 concurrent workers.\n",
      "[Parallel(n_jobs=1)]: Done 100 out of 100 | elapsed: 23.6min finished\n"
     ]
    },
    {
     "name": "stdout",
     "output_type": "stream",
     "text": [
      "Grid scores on development set:\n",
      "\n",
      "0.918 (+/-0.023) for {'classification__C': 10.0}\n",
      "0.918 (+/-0.023) for {'classification__C': 27.825594022071243}\n",
      "0.918 (+/-0.023) for {'classification__C': 77.4263682681127}\n",
      "0.917 (+/-0.023) for {'classification__C': 215.44346900318823}\n",
      "0.917 (+/-0.024) for {'classification__C': 599.4842503189409}\n",
      "0.917 (+/-0.026) for {'classification__C': 1668.100537200059}\n",
      "0.920 (+/-0.023) for {'classification__C': 4641.588833612777}\n",
      "0.917 (+/-0.027) for {'classification__C': 12915.496650148827}\n",
      "0.918 (+/-0.024) for {'classification__C': 35938.13663804626}\n",
      "0.919 (+/-0.025) for {'classification__C': 100000.0}\n",
      "\n",
      "The best parameter setting is:\n",
      "{'classification__C': 4641.588833612777} \n",
      "\n",
      "              precision    recall  f1-score   support\n",
      "\n",
      "           0       0.99      0.92      0.95      1240\n",
      "           1       0.82      0.92      0.87       154\n",
      "           2       0.65      0.95      0.77        91\n",
      "           3       0.97      0.89      0.93       479\n",
      "           4       0.92      0.91      0.92        77\n",
      "           5       0.60      0.77      0.67        47\n",
      "           6       0.23      0.93      0.37        15\n",
      "           7       0.84      0.96      0.90        56\n",
      "\n",
      "    accuracy                           0.91      2159\n",
      "   macro avg       0.75      0.91      0.80      2159\n",
      "weighted avg       0.94      0.91      0.92      2159\n",
      "\n"
     ]
    }
   ],
   "source": [
    "# Label - Genus : with standardization, L1 penalty and SMOTE\n",
    "smote_svc_classifiers['Genus'] = smoteParamSearch(LinearSVC(penalty='l1', dual=False), settings,\n",
    "                                                  std_train_X, train_Genus, std_test_X, test_Genus)"
   ]
  },
  {
   "cell_type": "code",
   "execution_count": 37,
   "metadata": {},
   "outputs": [
    {
     "name": "stdout",
     "output_type": "stream",
     "text": [
      "Fitting 10 folds for each of 10 candidates, totalling 100 fits\n"
     ]
    },
    {
     "name": "stderr",
     "output_type": "stream",
     "text": [
      "[Parallel(n_jobs=1)]: Using backend SequentialBackend with 1 concurrent workers.\n",
      "[Parallel(n_jobs=1)]: Done 100 out of 100 | elapsed: 511.4min finished\n"
     ]
    },
    {
     "name": "stdout",
     "output_type": "stream",
     "text": [
      "Grid scores on development set:\n",
      "\n",
      "0.957 (+/-0.014) for {'classification__C': 10.0}\n",
      "0.957 (+/-0.018) for {'classification__C': 27.825594022071243}\n",
      "0.956 (+/-0.019) for {'classification__C': 77.4263682681127}\n",
      "0.958 (+/-0.014) for {'classification__C': 215.44346900318823}\n",
      "0.956 (+/-0.018) for {'classification__C': 599.4842503189409}\n",
      "0.958 (+/-0.016) for {'classification__C': 1668.100537200059}\n",
      "0.956 (+/-0.016) for {'classification__C': 4641.588833612777}\n",
      "0.958 (+/-0.017) for {'classification__C': 12915.496650148827}\n",
      "0.958 (+/-0.015) for {'classification__C': 35938.13663804626}\n",
      "0.955 (+/-0.019) for {'classification__C': 100000.0}\n",
      "\n",
      "The best parameter setting is:\n",
      "{'classification__C': 35938.13663804626} \n",
      "\n",
      "              precision    recall  f1-score   support\n",
      "\n",
      "           0       0.96      0.92      0.94       182\n",
      "           1       0.94      0.89      0.92       154\n",
      "           2       0.99      1.00      0.99      1058\n",
      "           3       0.83      0.91      0.87        91\n",
      "           4       0.93      0.93      0.93       153\n",
      "           5       0.95      0.91      0.93       326\n",
      "           6       0.92      0.90      0.91        77\n",
      "           7       0.85      0.70      0.77        47\n",
      "           8       0.35      0.93      0.51        15\n",
      "           9       0.89      0.96      0.92        56\n",
      "\n",
      "    accuracy                           0.95      2159\n",
      "   macro avg       0.86      0.91      0.87      2159\n",
      "weighted avg       0.96      0.95      0.95      2159\n",
      "\n"
     ]
    }
   ],
   "source": [
    "# Label - Species : with standardization, L1 penalty and SMOTE\n",
    "smote_svc_classifiers['Species'] = smoteParamSearch(LinearSVC(penalty='l1', dual=False), settings,\n",
    "                                                  std_train_X, train_Species, std_test_X, test_Species)"
   ]
  },
  {
   "cell_type": "code",
   "execution_count": 52,
   "metadata": {},
   "outputs": [
    {
     "name": "stdout",
     "output_type": "stream",
     "text": [
      "Multilabel evaluation of SVM with L1 penalty and SMOTE\n",
      "--------------------------------------------------------------------------------\n",
      "Hamming Loss : 0.0715\n",
      "Exact Match Ratio : 0.8578\n"
     ]
    }
   ],
   "source": [
    "classifier_summary['SVC_L1_SMOTE'] = multilabelEval('SVM with L1 penalty and SMOTE', \n",
    "                                                    std_test_X, mfcc_test.iloc[:, -4:-1], \n",
    "                                                    smote_svc_classifiers)"
   ]
  },
  {
   "cell_type": "code",
   "execution_count": 46,
   "metadata": {},
   "outputs": [
    {
     "data": {
      "text/html": [
       "<div>\n",
       "<style scoped>\n",
       "    .dataframe tbody tr th:only-of-type {\n",
       "        vertical-align: middle;\n",
       "    }\n",
       "\n",
       "    .dataframe tbody tr th {\n",
       "        vertical-align: top;\n",
       "    }\n",
       "\n",
       "    .dataframe thead th {\n",
       "        text-align: right;\n",
       "    }\n",
       "</style>\n",
       "<table border=\"1\" class=\"dataframe\">\n",
       "  <thead>\n",
       "    <tr style=\"text-align: right;\">\n",
       "      <th></th>\n",
       "      <th>GaussianSVC_wo_std</th>\n",
       "      <th>GaussianSVC_w_std</th>\n",
       "      <th>SVC_L1</th>\n",
       "      <th>SVC_L1_SMOTE</th>\n",
       "    </tr>\n",
       "    <tr>\n",
       "      <th>metrics</th>\n",
       "      <th></th>\n",
       "      <th></th>\n",
       "      <th></th>\n",
       "      <th></th>\n",
       "    </tr>\n",
       "  </thead>\n",
       "  <tbody>\n",
       "    <tr>\n",
       "      <th>hamming loss</th>\n",
       "      <td>0.0096</td>\n",
       "      <td>0.0117</td>\n",
       "      <td>0.0522</td>\n",
       "      <td>0.0715</td>\n",
       "    </tr>\n",
       "    <tr>\n",
       "      <th>exact match ratio</th>\n",
       "      <td>0.9852</td>\n",
       "      <td>0.9787</td>\n",
       "      <td>0.9143</td>\n",
       "      <td>0.8578</td>\n",
       "    </tr>\n",
       "  </tbody>\n",
       "</table>\n",
       "</div>"
      ],
      "text/plain": [
       "                   GaussianSVC_wo_std  GaussianSVC_w_std  SVC_L1  SVC_L1_SMOTE\n",
       "metrics                                                                       \n",
       "hamming loss                   0.0096             0.0117  0.0522        0.0715\n",
       "exact match ratio              0.9852             0.9787  0.9143        0.8578"
      ]
     },
     "execution_count": 46,
     "metadata": {},
     "output_type": "execute_result"
    }
   ],
   "source": [
    "classifier_summary['metrics'] = ['hamming loss', 'exact match ratio']\n",
    "summary = pd.DataFrame.from_dict(classifier_summary)\n",
    "summary.set_index('metrics', inplace=True)\n",
    "summary"
   ]
  },
  {
   "cell_type": "markdown",
   "metadata": {},
   "source": [
    "# 2. K-Means Clustering on a Multi-Class and Multi-Label Data Set"
   ]
  },
  {
   "cell_type": "code",
   "execution_count": 178,
   "metadata": {},
   "outputs": [],
   "source": [
    "from sklearn.cluster import KMeans\n",
    "from sklearn.metrics import silhouette_samples, silhouette_score\n",
    "\n",
    "\"\"\"\n",
    "Doc references:\n",
    "https://scikit-learn.org/stable/auto_examples/cluster/plot_kmeans_silhouette_analysis.html\n",
    "https://scikit-learn.org/stable/modules/generated/sklearn.cluster.KMeans.html\n",
    "\"\"\"\n",
    "\n",
    "def getOptimalK(num_cluster, X, rand):\n",
    "    '''\n",
    "    funciton to find optimal K\n",
    "    @params\n",
    "        num_cluster : integer to set the upper bound of possible number of cluster\n",
    "        X : feature dataframe\n",
    "    @return\n",
    "        the optimal K with best silhouette score\n",
    "    '''\n",
    "    optimalK, max_score = 2, 0\n",
    "    for n in range(2, num_cluster + 1):\n",
    "        clusterer = KMeans(n_clusters=n, random_state=rand)\n",
    "        cluster_labels = clusterer.fit_predict(X)\n",
    "        silhouette_avg = silhouette_score(X, cluster_labels)\n",
    "        #print(\"For n_clusters =\", n, \"The average silhouette_score is :\", silhouette_avg)\n",
    "        if silhouette_avg > max_score:\n",
    "            optimalK = n\n",
    "            max_score = silhouette_avg\n",
    "    print(\"\\nThe optimal K is: {}\".format(optimalK))\n",
    "    return optimalK\n",
    "\n",
    "def getMajorityLabels(optimalK, cluster_labels, Y):\n",
    "    '''\n",
    "    function to get majority labels for each cluster\n",
    "    @params\n",
    "        optimalK : integer represents optimal K\n",
    "        cluster_labels : array of cluster indecies of samples\n",
    "        Y : (n_samples, n_labels) dataframe\n",
    "    @return\n",
    "        a (n_clusters, n_labels) dataframe\n",
    "    '''\n",
    "    cluster_major = pd.DataFrame(columns=Y.columns)\n",
    "    for c in range(optimalK):\n",
    "        idx, = np.where(cluster_labels == c)\n",
    "        cluster_samples = Y.iloc[idx, :]\n",
    "        row = []\n",
    "        for label in Y.columns:\n",
    "            # get the value counts of a type of label and get the first which is the most\n",
    "            cur_major = cluster_samples.loc[:, label].value_counts().index[0]\n",
    "            #print(label, cur_major)\n",
    "            row.append(cur_major)\n",
    "        cluster_major.loc[c] = row\n",
    "    return cluster_major\n",
    "\n",
    "def evaluation(cluster_major, cluster_labels, Y):\n",
    "    '''\n",
    "    function of evaluation: Hamming Distance/Loss\n",
    "    @params\n",
    "        cluster_major : (n_clusters, n_labels) dataframe\n",
    "        cluster_labels : array of cluster indecies of samples\n",
    "        Y : (n_samples, n_labels) dataframe\n",
    "    @return\n",
    "        hamming distance and hamming loss\n",
    "    '''\n",
    "    # variable to count miss-classified label\n",
    "    missclf_labels = 0\n",
    "    # for each (1, 3) vector, compare it with cluster major\n",
    "    for c in range(len(cluster_major)):\n",
    "        idx, = np.where(cluster_labels == c)\n",
    "        for label in Y.loc[idx].values:\n",
    "            miss = (label != cluster_major.loc[c].values)\n",
    "            missclf_labels += np.sum(miss)\n",
    "    # note that the hamming distance should be get average ove samples rather than labels\n",
    "    hamming_dist = missclf_labels / Y.shape[0]\n",
    "    hamming_loss = missclf_labels / (Y.shape[0] * Y.shape[1])\n",
    "    return hamming_dist, hamming_loss\n",
    "    \n",
    "def monteCarlo(times, X, Y):\n",
    "    '''\n",
    "    function of evaluation: Hamming Distance/Loss\n",
    "    @params\n",
    "        cluster_major : (n_clusters, n_labels) dataframe\n",
    "        cluster_labels : array of cluster indecies of samples\n",
    "        Y : (n_samples, n_labels) dataframe\n",
    "    @return\n",
    "        hamming distance and hamming loss\n",
    "    '''\n",
    "    hamming_dist = []\n",
    "    hamming_loss = []\n",
    "    for i in range(times):\n",
    "        # get optimal K for clustering\n",
    "        optimalK = getOptimalK(50, X, i)\n",
    "        \n",
    "        # build kmeans clusterer\n",
    "        clusterer = KMeans(n_clusters=optimalK, random_state=i)\n",
    "        cluster_labels = clusterer.fit_predict(X)\n",
    "        \n",
    "        # get majority label\n",
    "        cluster_major = getMajorityLabels(optimalK, cluster_labels, Y)\n",
    "        cluster_major = cluster_major.astype('int64')\n",
    "        \n",
    "        # get Hamming distance and Hamming loss\n",
    "        cur_dist, cur_loss = evaluation(cluster_major, cluster_labels, Y)\n",
    "        hamming_dist.append(cur_dist)\n",
    "        hamming_loss.append(cur_loss)\n",
    "        print(\"Attempt {} ~ Hamming Distance : {}, Hamming Loss {}\".format(i+1, cur_dist, cur_loss))\n",
    "    return hamming_dist, hamming_loss"
   ]
  },
  {
   "cell_type": "code",
   "execution_count": 179,
   "metadata": {
    "scrolled": false
   },
   "outputs": [
    {
     "name": "stdout",
     "output_type": "stream",
     "text": [
      "\n",
      "The optimal K is: 4\n",
      "Attempt 1 ~ Hamming Distance : 0.6653231410701876, Hamming Loss 0.22177438035672922\n",
      "\n",
      "The optimal K is: 4\n",
      "Attempt 2 ~ Hamming Distance : 0.66726893676164, Hamming Loss 0.2224229789205467\n",
      "\n",
      "The optimal K is: 4\n",
      "Attempt 3 ~ Hamming Distance : 0.66726893676164, Hamming Loss 0.2224229789205467\n",
      "\n",
      "The optimal K is: 4\n",
      "Attempt 4 ~ Hamming Distance : 0.66726893676164, Hamming Loss 0.2224229789205467\n",
      "\n",
      "The optimal K is: 4\n",
      "Attempt 5 ~ Hamming Distance : 0.66726893676164, Hamming Loss 0.2224229789205467\n",
      "\n",
      "The optimal K is: 4\n",
      "Attempt 6 ~ Hamming Distance : 0.66726893676164, Hamming Loss 0.2224229789205467\n",
      "\n",
      "The optimal K is: 4\n",
      "Attempt 7 ~ Hamming Distance : 0.66726893676164, Hamming Loss 0.2224229789205467\n",
      "\n",
      "The optimal K is: 4\n",
      "Attempt 8 ~ Hamming Distance : 0.66726893676164, Hamming Loss 0.2224229789205467\n",
      "\n",
      "The optimal K is: 4\n",
      "Attempt 9 ~ Hamming Distance : 0.7357887421820709, Hamming Loss 0.24526291406069028\n",
      "\n",
      "The optimal K is: 4\n",
      "Attempt 10 ~ Hamming Distance : 0.66726893676164, Hamming Loss 0.2224229789205467\n",
      "\n",
      "The optimal K is: 4\n",
      "Attempt 11 ~ Hamming Distance : 0.6674079221681724, Hamming Loss 0.22246930738939077\n",
      "\n",
      "The optimal K is: 4\n",
      "Attempt 12 ~ Hamming Distance : 0.6661570535093815, Hamming Loss 0.22205235116979383\n",
      "\n",
      "The optimal K is: 4\n",
      "Attempt 13 ~ Hamming Distance : 0.66726893676164, Hamming Loss 0.2224229789205467\n",
      "\n",
      "The optimal K is: 4\n",
      "Attempt 14 ~ Hamming Distance : 0.6649061848505907, Hamming Loss 0.2216353949501969\n",
      "\n",
      "The optimal K is: 4\n",
      "Attempt 15 ~ Hamming Distance : 0.66726893676164, Hamming Loss 0.2224229789205467\n",
      "\n",
      "The optimal K is: 4\n",
      "Attempt 16 ~ Hamming Distance : 0.66726893676164, Hamming Loss 0.2224229789205467\n",
      "\n",
      "The optimal K is: 4\n",
      "Attempt 17 ~ Hamming Distance : 0.66726893676164, Hamming Loss 0.2224229789205467\n",
      "\n",
      "The optimal K is: 4\n",
      "Attempt 18 ~ Hamming Distance : 0.6660180681028492, Hamming Loss 0.22200602270094974\n",
      "\n",
      "The optimal K is: 4\n",
      "Attempt 19 ~ Hamming Distance : 0.66726893676164, Hamming Loss 0.2224229789205467\n",
      "\n",
      "The optimal K is: 4\n",
      "Attempt 20 ~ Hamming Distance : 0.6674079221681724, Hamming Loss 0.22246930738939077\n",
      "\n",
      "The optimal K is: 4\n",
      "Attempt 21 ~ Hamming Distance : 0.66726893676164, Hamming Loss 0.2224229789205467\n",
      "\n",
      "The optimal K is: 4\n",
      "Attempt 22 ~ Hamming Distance : 0.66726893676164, Hamming Loss 0.2224229789205467\n",
      "\n",
      "The optimal K is: 4\n",
      "Attempt 23 ~ Hamming Distance : 0.66726893676164, Hamming Loss 0.2224229789205467\n",
      "\n",
      "The optimal K is: 4\n",
      "Attempt 24 ~ Hamming Distance : 0.66726893676164, Hamming Loss 0.2224229789205467\n",
      "\n",
      "The optimal K is: 4\n",
      "Attempt 25 ~ Hamming Distance : 0.6674079221681724, Hamming Loss 0.22246930738939077\n",
      "\n",
      "The optimal K is: 4\n",
      "Attempt 26 ~ Hamming Distance : 0.6649061848505907, Hamming Loss 0.2216353949501969\n",
      "\n",
      "The optimal K is: 4\n",
      "Attempt 27 ~ Hamming Distance : 0.66726893676164, Hamming Loss 0.2224229789205467\n",
      "\n",
      "The optimal K is: 4\n",
      "Attempt 28 ~ Hamming Distance : 0.66726893676164, Hamming Loss 0.2224229789205467\n",
      "\n",
      "The optimal K is: 4\n",
      "Attempt 29 ~ Hamming Distance : 0.66726893676164, Hamming Loss 0.2224229789205467\n",
      "\n",
      "The optimal K is: 4\n",
      "Attempt 30 ~ Hamming Distance : 0.6649061848505907, Hamming Loss 0.2216353949501969\n",
      "\n",
      "The optimal K is: 4\n",
      "Attempt 31 ~ Hamming Distance : 0.6657400972897846, Hamming Loss 0.2219133657632615\n",
      "\n",
      "The optimal K is: 4\n",
      "Attempt 32 ~ Hamming Distance : 0.66726893676164, Hamming Loss 0.2224229789205467\n",
      "\n",
      "The optimal K is: 4\n",
      "Attempt 33 ~ Hamming Distance : 0.7000694927032661, Hamming Loss 0.2333564975677554\n",
      "\n",
      "The optimal K is: 4\n",
      "Attempt 34 ~ Hamming Distance : 0.66726893676164, Hamming Loss 0.2224229789205467\n",
      "\n",
      "The optimal K is: 4\n",
      "Attempt 35 ~ Hamming Distance : 0.66726893676164, Hamming Loss 0.2224229789205467\n",
      "\n",
      "The optimal K is: 4\n",
      "Attempt 36 ~ Hamming Distance : 0.735371785962474, Hamming Loss 0.24512392865415797\n",
      "\n",
      "The optimal K is: 4\n",
      "Attempt 37 ~ Hamming Distance : 0.66726893676164, Hamming Loss 0.2224229789205467\n",
      "\n",
      "The optimal K is: 4\n",
      "Attempt 38 ~ Hamming Distance : 0.66726893676164, Hamming Loss 0.2224229789205467\n",
      "\n",
      "The optimal K is: 4\n",
      "Attempt 39 ~ Hamming Distance : 0.66726893676164, Hamming Loss 0.2224229789205467\n",
      "\n",
      "The optimal K is: 4\n",
      "Attempt 40 ~ Hamming Distance : 0.66726893676164, Hamming Loss 0.2224229789205467\n",
      "\n",
      "The optimal K is: 4\n",
      "Attempt 41 ~ Hamming Distance : 0.6649061848505907, Hamming Loss 0.2216353949501969\n",
      "\n",
      "The optimal K is: 4\n",
      "Attempt 42 ~ Hamming Distance : 0.7000694927032661, Hamming Loss 0.2333564975677554\n",
      "\n",
      "The optimal K is: 4\n",
      "Attempt 43 ~ Hamming Distance : 0.66726893676164, Hamming Loss 0.2224229789205467\n",
      "\n",
      "The optimal K is: 4\n",
      "Attempt 44 ~ Hamming Distance : 0.66726893676164, Hamming Loss 0.2224229789205467\n",
      "\n",
      "The optimal K is: 4\n",
      "Attempt 45 ~ Hamming Distance : 0.66726893676164, Hamming Loss 0.2224229789205467\n",
      "\n",
      "The optimal K is: 4\n",
      "Attempt 46 ~ Hamming Distance : 0.6664350243224462, Hamming Loss 0.22214500810748206\n",
      "\n",
      "The optimal K is: 4\n",
      "Attempt 47 ~ Hamming Distance : 0.66726893676164, Hamming Loss 0.2224229789205467\n",
      "\n",
      "The optimal K is: 4\n",
      "Attempt 48 ~ Hamming Distance : 0.735371785962474, Hamming Loss 0.24512392865415797\n",
      "\n",
      "The optimal K is: 4\n",
      "Attempt 49 ~ Hamming Distance : 0.66726893676164, Hamming Loss 0.2224229789205467\n",
      "\n",
      "The optimal K is: 4\n",
      "Attempt 50 ~ Hamming Distance : 0.66726893676164, Hamming Loss 0.2224229789205467\n"
     ]
    }
   ],
   "source": [
    "hamming_dist, hamming_loss = monteCarlo(50, mfcc_data.iloc[:, :-4], mfcc_data.iloc[:, -4:-1])"
   ]
  },
  {
   "cell_type": "code",
   "execution_count": 181,
   "metadata": {},
   "outputs": [],
   "source": [
    "hamming_dist, hamming_loss = np.array(hamming_dist), np.array(hamming_loss)"
   ]
  },
  {
   "cell_type": "code",
   "execution_count": 183,
   "metadata": {},
   "outputs": [
    {
     "name": "stdout",
     "output_type": "stream",
     "text": [
      "The average Hamming Distance is 0.6723613620569838\n",
      "The standard deviation of simulation result is 0.01723837650073444\n"
     ]
    }
   ],
   "source": [
    "print(\"The average Hamming Distance is {}\".format(np.mean(hamming_dist)))\n",
    "print(\"The standard deviation of simulation result is {}\".format(np.std(hamming_dist)))"
   ]
  },
  {
   "cell_type": "code",
   "execution_count": 184,
   "metadata": {},
   "outputs": [
    {
     "name": "stdout",
     "output_type": "stream",
     "text": [
      "The average Hamming Loss is 0.2241204540189947\n",
      "The standard deviation of simulation results is 0.005746125500244805\n"
     ]
    }
   ],
   "source": [
    "print(\"The average Hamming Loss is {}\".format(np.mean(hamming_loss)))\n",
    "print(\"The standard deviation of simulation results is {}\".format(np.std(hamming_loss)))"
   ]
  },
  {
   "cell_type": "markdown",
   "metadata": {},
   "source": [
    "# 3. ISLR 10.7.2\n",
    "\n",
    "\n",
    "(a) Denrogram with complete linkage\n",
    "\n",
    "![dendrogram-a](dendrogram-a.png)\n",
    "\n",
    "\n",
    "(b) Denrogram with single linkage\n",
    "![dendrogram-b](dendrogram-b.png)\n",
    "\n",
    "(c) We get two clusters: {1, 2} and {3, 4}.\n",
    "\n",
    "(d) We get two clusters: {1, 2, 3} and {4}\n",
    "\n",
    "(e) Denrogram equivalent to the one in (a)\n",
    "![dendrogram-e](dendrogram-e.png)"
   ]
  },
  {
   "cell_type": "code",
   "execution_count": null,
   "metadata": {},
   "outputs": [],
   "source": []
  }
 ],
 "metadata": {
  "kernelspec": {
   "display_name": "Python 3",
   "language": "python",
   "name": "python3"
  },
  "language_info": {
   "codemirror_mode": {
    "name": "ipython",
    "version": 3
   },
   "file_extension": ".py",
   "mimetype": "text/x-python",
   "name": "python",
   "nbconvert_exporter": "python",
   "pygments_lexer": "ipython3",
   "version": "3.7.6"
  }
 },
 "nbformat": 4,
 "nbformat_minor": 4
}
